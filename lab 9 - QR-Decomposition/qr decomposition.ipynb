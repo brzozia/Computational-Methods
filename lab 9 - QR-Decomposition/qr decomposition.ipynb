{
 "cells": [
  {
   "cell_type": "markdown",
   "metadata": {},
   "source": [
    "Natalia Brzozowska\n",
    "# Laboratorium 9\n",
    "## Faktoryzacja QR"
   ]
  },
  {
   "cell_type": "markdown",
   "metadata": {},
   "source": [
    "***\n",
    "## Zadanie 1\n",
    "### Faktoryzacja QR metoda Grama-Schmidta\n",
    "  #### 1. Napisz funkcje dokonujaca faktoryzacji QR macierzy A 2 $R^{n×n}$, A = [$a_{1}, a_{2}, . . . , a_{n}$] ($a_{i}$ to kolejne kolumny macierzy A) klasyczną metodą ortogonalizacji Grama- Schmidta.\n",
    "   ***"
   ]
  },
  {
   "cell_type": "markdown",
   "metadata": {},
   "source": [
    "Faktoryzacja QR macierzy A polega na przedstawieniu macierzy A w postaci dwóch macierzy Q i R, gdzie macierz Q jest macierzą ortogonalną (czyli taką, dla której zachodzi $A^{T}A = I$), a R jest macierzą górną trójkątną. Dzięki temu $A=QR$.<br><br>\n",
    "Proces faktoryzacji macierzy Grama-Schmidta wykorzystuje kolumny macierzy A. Aby uzyskać rozkład QR należy rozpocząć faktoryzację od pierwszej kolumny. Pierwszy element tabeli wynikowej Q, jest znormalizowanym wektorem będącym pierwszą kolumną macierzy A. Kolejne elementy macierzy Q zależą od poprzednich wektorów dodanych do tej macierzy. Każdy kolejny wektor jest obliczany jako znormalizowany wektor obliczony jako różnica kolejnej kolumny macierzy A i sumy iloczynów wcześniejszych elementów macierzy Q z iloczynem skalarnym tego poprzedniego elementu i konkretnej kolumny macierzy A.<br><br>\n",
    "Macierz R jest macierzą trójkątną górną, w której powyżej przekątnej znajdują się iloczyny skalarne odpowiednich kolumn macierzy Q.<br><br>\n",
    "W poniższej implementacji wektory do macierzy Q (w kodzie jest to macierz \"u\") dodawane są jako wiersze, dlatego funkcja zwraca transponowaną macierz Q."
   ]
  },
  {
   "cell_type": "code",
   "execution_count": 2,
   "metadata": {},
   "outputs": [],
   "source": [
    "import numpy as np"
   ]
  },
  {
   "cell_type": "code",
   "execution_count": 3,
   "metadata": {},
   "outputs": [],
   "source": [
    "def column(A,num):\n",
    "    return [row[num] for row in A ]\n",
    "\n",
    "def Gram_Schmidt_method(A):\n",
    "    n=len(A[0])\n",
    "    u=[]\n",
    "    k=0\n",
    "    col = column(A,k)\n",
    "    u.append(col / np.linalg.norm(col))\n",
    "    \n",
    "    for k in range(1,n):\n",
    "        ak = column(A,k) \n",
    "        suma = 0\n",
    "        \n",
    "        for i in range(k):\n",
    "            suma += np.dot(u[i],ak)*u[i]\n",
    "\n",
    "        c = ak - suma\n",
    "        u.append(c/np.linalg.norm(c))\n",
    "    \n",
    "    R = np.zeros((n,n))\n",
    "    \n",
    "    for i in range(n):\n",
    "        for j in range(n):\n",
    "            if i<=j :\n",
    "                R[i][j] = np.dot(u[i],column(A,j))\n",
    "                \n",
    "    return np.array(u).T,R"
   ]
  },
  {
   "cell_type": "markdown",
   "metadata": {},
   "source": [
    "***\n",
    "#### 2. Przetestuj zaimplementowaną metodę porównując wyniki uzyskane za jej pomocą z wynikami zwracanymi przez funkcję biblioteczna. W testach wykorzystaj 4-5 macierzy losowych o różnym rozmiarze."
   ]
  },
  {
   "cell_type": "markdown",
   "metadata": {},
   "source": [
    "***\n",
    "Poniżej zaimplementowałam trzy funkcje służące przetestowaniu poprawności działania zaimplementowanej wcześniej faktoryzacji QR.<br><br>\n",
    "Funkcja _make_matrix(n)_ przyjmuje jak argument rozmiar macierzy, którą musi utworzyć. Następnie przy pomocy funkcji bibliotecznej wytwarza tą macierz i mnoży każdy element przez 10. Przez to w macierzy znajdują się elementy z zakresu [0,10). <br><br>\n",
    "Funkcja _compare_results(A)_ porównuje macierze uzyskane z funkcji bibliotecznej numpy.linalg.qr z wynikami zaimplementowanej przeze mnie funkcji. Sprawdza ona wartości bezwzględne elementów macierzy, ponieważ mogą one się różnić między sobą (jednak nie wpływa to na poprawność działania metody). Sprawdza również czy zachodzi równość $A=QR$.\n",
    "<br><br>\n",
    "Funkcja _test_QR()_ agreguje tworzenie i testowanie pięciu macierzy, wykorzystując wcześniej opisane funkcje."
   ]
  },
  {
   "cell_type": "code",
   "execution_count": 4,
   "metadata": {},
   "outputs": [],
   "source": [
    "def make_matrix(n):\n",
    "    return np.random.rand(n,n)*10\n",
    "    \n",
    "    \n",
    "def compare_results(A):\n",
    "    q,r = np.linalg.qr(A)\n",
    "    Q,R = Gram_Schmidt_method(A)\n",
    "\n",
    "    print(\"Macierze Q są zgodne -\", np.allclose(abs(Q),abs(q)))\n",
    "    print(\"Macierze R są zgodne -\", np.allclose(abs(R),abs(r)))\n",
    "    print(\"Macierz wejściowa A jest równa QR -\" , np.allclose(A,np.dot(Q,R)))\n",
    "\n",
    "    \n",
    "def test_QR():\n",
    "    print(\"Macierz 15x15\")\n",
    "    A = make_matrix(15)\n",
    "    compare_results(A)\n",
    "    \n",
    "    print(\"\\nMacierz 25x25\")\n",
    "    A = make_matrix(25)\n",
    "    compare_results(A)\n",
    "    \n",
    "    print(\"\\nMacierz 40x40\")\n",
    "    A = make_matrix(40)\n",
    "    compare_results(A)\n",
    "    \n",
    "    print(\"\\nMacierz 60x60\")\n",
    "    A = make_matrix(60)\n",
    "    compare_results(A)\n",
    "    \n",
    "    print(\"\\nMacierz 77x77\")\n",
    "    A = make_matrix(77)\n",
    "    compare_results(A)"
   ]
  },
  {
   "cell_type": "code",
   "execution_count": 5,
   "metadata": {},
   "outputs": [
    {
     "name": "stdout",
     "output_type": "stream",
     "text": [
      "Macierz 15x15\n",
      "Macierze Q są zgodne - True\n",
      "Macierze R są zgodne - True\n",
      "Macierz wejściowa A jest równa QR - True\n",
      "\n",
      "Macierz 25x25\n",
      "Macierze Q są zgodne - True\n",
      "Macierze R są zgodne - True\n",
      "Macierz wejściowa A jest równa QR - True\n",
      "\n",
      "Macierz 40x40\n",
      "Macierze Q są zgodne - True\n",
      "Macierze R są zgodne - True\n",
      "Macierz wejściowa A jest równa QR - True\n",
      "\n",
      "Macierz 60x60\n",
      "Macierze Q są zgodne - True\n",
      "Macierze R są zgodne - True\n",
      "Macierz wejściowa A jest równa QR - True\n",
      "\n",
      "Macierz 77x77\n",
      "Macierze Q są zgodne - True\n",
      "Macierze R są zgodne - True\n",
      "Macierz wejściowa A jest równa QR - True\n"
     ]
    }
   ],
   "source": [
    "test_QR()"
   ]
  },
  {
   "cell_type": "markdown",
   "metadata": {},
   "source": [
    "Jak widać wszytskie wyniki są zgodne, zatem zaimplementowana funkcja działa porawnie."
   ]
  },
  {
   "cell_type": "markdown",
   "metadata": {},
   "source": [
    "***\n",
    "#### 3. Wygeneruj 30-50 przykładowych macierzy 8 × 8 o różnym wskaźniku uwarunkowania cond($A_{i}$) (stosunek największej do najmniejszej wartości osobliwej). Wykorzystaj w tym celu SVD oraz biblioteczną funkcje realizujaca dekompozycje QR (potrzebne będą dwie losowe macierze ortogonalne oraz diagonalna macierz odpowiednio szybko malejacych wartosci osobliwych)."
   ]
  },
  {
   "cell_type": "markdown",
   "metadata": {},
   "source": [
    "***\n",
    "Poniżej zaimplementowałam funkcje, z których będę korzystać przy generowaniu macierzy 8x8.<br><br>\n",
    "\n",
    "Funkcja _make_cond_matrix(vector)_ przyjmuje jako argument wektor, z posortowanymi wartościami, które posłużą do utworzenia macierzy diagonalnej. Stosunek największej do najmniejszej wartości z tej tablicy jest wskaźnikiem uwarunkowania. Następnie tworzone są dwie tablice z losowymi elementami, o wymiarach 8x8, na których później przeprowadzana jest faktoryzacja qr (korzystając z funkcji bibliotecznej). Macierze Q, będące wynikiem tej transformacji, są macierzami ortogonalnymi i właśnie one w połączeniu z macierzą diaonalną utworzą macierz.\n",
    "<br><br>\n",
    "Funkcja _sort_key(row)_ przyjmuje jako argument wiersz - wektor i zwraca stosunek największej do najmniejszej wartości w tej tablicy. Ta funkcja służy do sortowania wektorów według ich wskaźnika uwarunkowania.\n",
    "<br><br>\n",
    "W funkcji _make_all_matrices(n)_ tworzone jest n macierzy. Najpierw tworzonych jest n wektorów, przeznaczonych do bycia przekątnymi macierzy diagonalnej. Wartości wewnątrz wektora są sortowane i następnie, jeśli jeszcze nie został utworzony wektor o takim wskaźniku uwarunkowania, wektor jest dodawany do macierzy zawierającej przekątne, a do innej tablicy zapisywany jest wskaźnik uwarunkowania tego wektora. Po utworzeniu n wektorów macierz zawierająca te tablice jest sortowana przy użyciu funkcji _sort_key(row)_ oraz sortowana jest tablica wskaźników uwarunkowania.\n",
    "Później dla każdej utworzonej przekątnej tworzona jest macierz przy użyciu funkcji _make_cond_matrix(vector)_. Każda tak utworzona macierz jest dodawana to tablicy y.<br>\n",
    "Funkcja zwraca tablicę macierzy y oraz tablicę wartościu uwarunkowania."
   ]
  },
  {
   "cell_type": "code",
   "execution_count": 6,
   "metadata": {},
   "outputs": [],
   "source": [
    "def make_cond_matrix(vals):   \n",
    "    diag = np.diagflat(vals)\n",
    "    \n",
    "    m1 = np.random.rand(8,8)*10\n",
    "    m2 = np.random.rand(8,8)*10\n",
    "    \n",
    "    orto1,r = np.linalg.qr(m1)\n",
    "    orto2,r = np.linalg.qr(m2)\n",
    "    \n",
    "    return (orto1 @ diag) @ orto2\n",
    "    \n",
    "    \n",
    "    \n",
    "def sort_key(row):\n",
    "    return row[0]/row[len(row)-1]\n",
    "\n",
    "\n",
    "def make_all_matrices(n):\n",
    "    diags = []\n",
    "    y=[]\n",
    "    x=[]\n",
    "    \n",
    "    for i in range(n):\n",
    "        arr = np.random.rand(8)*10\n",
    "        s = sorted(arr, reverse=True)\n",
    "        \n",
    "        while s[0]/s[7] in x:\n",
    "            arr = np.random.rand(8)*10\n",
    "            s = sorted(arr, reverse=True)\n",
    "\n",
    "        diags.append(s)\n",
    "        x.append(diags[i][0]/diags[i][7])\n",
    "    \n",
    "    diags.sort(key = sort_key)\n",
    "    x.sort()\n",
    "        \n",
    "\n",
    "    for row in diags:\n",
    "        matrix = make_cond_matrix(row)\n",
    "        y.append(matrix)\n",
    "        \n",
    "    return y, x"
   ]
  },
  {
   "cell_type": "code",
   "execution_count": 7,
   "metadata": {},
   "outputs": [],
   "source": [
    "matrices, x = make_all_matrices(40)"
   ]
  },
  {
   "cell_type": "markdown",
   "metadata": {},
   "source": [
    "***\n",
    "#### 4. Dla każdej z uzyskanych w ten sposób macierzy $A_{i}$ wyznacz faktoryzacje QR korzystając z zaimplementowanej funkcji ($A_{i} = Q_{i}R_{i}$). Przedstaw zależność $||I−Q^{T}_{i} Q_{i}||$ od cond($A_{i}$)."
   ]
  },
  {
   "cell_type": "markdown",
   "metadata": {},
   "source": [
    "***\n",
    "Funkcja _do_qr_compare(matrices)_ wykonuje faktoryzację QR dla każdej macierzy przekazanej w tablicy macierzy _matrices_. Następnie oblicza podane w poleceniu działanie i jego wartość zapisuje do tablicy y, którą później zwraca.<br><br>\n",
    "\n",
    "Funkcja _show_plt(x,y)_ przedstawia na wykresie wartości obliczone przez funkcję _do_qr_compare(matrices)_ w odniesieniu do wskaźników uwarunkowania zwracanych przez funkcję _make_all_matrices(n)_."
   ]
  },
  {
   "cell_type": "code",
   "execution_count": 8,
   "metadata": {},
   "outputs": [],
   "source": [
    "import matplotlib.pylab as plt"
   ]
  },
  {
   "cell_type": "code",
   "execution_count": 9,
   "metadata": {},
   "outputs": [],
   "source": [
    "def do_qr_compare(matrices):\n",
    "    y=[]\n",
    "    \n",
    "    for matrix in matrices:\n",
    "        q,r = Gram_Schmidt_method(matrix)\n",
    "        c = np.identity(8) - (q.T@q)\n",
    "        y.append(np.linalg.norm(c))\n",
    "\n",
    "    return y\n",
    "\n",
    "def show_plt(x,y):\n",
    "    plt.figure(num=1,figsize=(12,8))\n",
    "    plt.plot(x,y, 'bo')\n",
    "    plt.xlabel('cond')\n",
    "    plt.ylabel('error')\n",
    "    plt.show()\n"
   ]
  },
  {
   "cell_type": "code",
   "execution_count": 10,
   "metadata": {},
   "outputs": [],
   "source": [
    "y = do_qr_compare(matrices)"
   ]
  },
  {
   "cell_type": "code",
   "execution_count": 11,
   "metadata": {},
   "outputs": [
    {
     "data": {
      "image/png": "[encoded data removed]",
      "text/plain": [
       "<Figure size 864x576 with 1 Axes>"
      ]
     },
     "metadata": {
      "needs_background": "light"
     },
     "output_type": "display_data"
    }
   ],
   "source": [
    "show_plt(x,y)"
   ]
  },
  {
   "cell_type": "markdown",
   "metadata": {},
   "source": [
    "***\n",
    "#### 5. Zinterpretuj wyniki. Jaka jest przyczyna uzyskanych rozbieżnosci? Od czego zależy wielkość rozbieżności?"
   ]
  },
  {
   "cell_type": "markdown",
   "metadata": {},
   "source": [
    "Na wykresie można zauważyć, że wraz ze wzrostem wskaźnika uwarunkowania cond, wzrasta obliczony błąd. Jeśli wskaźnik uwarunkowania jest wysoki, to taka macierz jest źle uwarunkowana. Macierz źle uwarunkowana, oznacza macierz, w której względnie niewielkie zmiany danych, mogą spowodować względnie duże rozbieżności w rozwiązaniu.  Obliczony błąd powinien być równy zeru (w idealnej sytuacji), ponieważ macierz ortogonalna Q ma własność $QQ^{T}=I$. <br><br>\n",
    "Ponieważ w implementacji faktoryzacji QR, każda kolejna kolumna macierzy Q zależy od poprzedniej, mogą wystąpić błędy numeryczne w zaokrąglaniu liczb. Dlatego im większy jest współczynnik cond, tym większa jest różnica między największym  i najmniejszym elementem na przekątnej macierzy diagonalnej, a zatem w macierzy utworzonej w wyniku mnożenia macierzy diagonalnej o większym cond z macierzami ortogonalnymi mogą wystąpić większe wartości elementów tej macierzy. Przez to później w czasie obliczania macierzy Q, może wystąpić więcej potrzeb zaokrąglania liczb. Wtedy utworzona macierz Q nie będzie całkowicie ortogonalna.\n",
    "<br>Oczywiście nie jest to reguła w każdym przypadku, bo wartość elementów macierzy zależy również od wartości macierzy ortogonalnych przez które mnożona jest macierz diagonalna. "
   ]
  },
  {
   "cell_type": "markdown",
   "metadata": {},
   "source": [
    "***\n",
    "## Zadanie 2 \n",
    "### Rozwiazywanie układów równań metodą QR"
   ]
  },
  {
   "cell_type": "markdown",
   "metadata": {},
   "source": [
    "#### Bezpośrednie rozwiązywanie układu równań przy pomocy równań normalnych jest obarczone dużym błędem jeśli macierz A jest źle uwarunkowana (jej współczynnik uwarunkowania jest wysoki). Lepszym sposobem jest wykorzystanie dekompozycji QR w tym celu.<br><br> Napisz funkcję rozwiazujacą nadokreślony układ równań liniowych metoda QR korzystając z własności macierzy ortogonalnych: $A^{T} = A^{−1}$, a także z mechanizmu back substitution. Nastepnie wykorzystaj ją do rozwiazania problemu aproksymacji średniokwadratowej dla zbioru punktów podanego w tabeli ponizej. Przyjmij model postaci:<br>$ f(x) = a_{0} + a_{1x} + a_{2}x^{2}$. Przedstaw wizualizacje uzyskanego wyniku (punkty oraz funkcja aproksymujaca f)."
   ]
  },
  {
   "cell_type": "markdown",
   "metadata": {},
   "source": [
    "***\n",
    "Napisałam dwie funkcje. Funkcja _solve_equations(A,B)_ służy rozwiązaniu układu równań w postaci macierzowej. W tej funkcji najpierw wykonuję dekompozycję QR macierzy A, a następnie korzystając z zależności <br> $Ax=B$<br>$QRx=B$<br>$Rx=Q_{T}B$<br> i mechanizmu back substitution obliczam wektor wynikowy. Następnie sprawdzam pooprawnośc wykonanych obliczeń.\n",
    "<br><br>\n",
    "Funkcja _back_substitution(A,B)_ jest implementacją mechanizmu back substitution służącego znalezieniu rozwiązania układu równań, gdy macierz A jest macierzą trójkątną górną. Idąc \"od końca\" macierzy A (czyli on wiersza, gdzie tylko jeden element jest różny od zera) oblicza się kolejno wartości kolejnych niewiadomych, posługując się wcześniej wyliczonymi wartościami. Tak np. dla wyliczenia drugiej \"od końca\" niewiadomej, odpowiadającej wierszowi z dwiema wartościami różnymi od zera należy wykorzytać wartość obliczonej niewiadomej dla wiersza z jedną niewiadomą."
   ]
  },
  {
   "cell_type": "code",
   "execution_count": 12,
   "metadata": {},
   "outputs": [],
   "source": [
    "def solve_equations(A,B):\n",
    "    q,r = Gram_Schmidt_method(A)\n",
    "    sol = back_substitution(r, q.T@B)\n",
    "    print(\"Wyniki funkcji jest podobny do wyniku f. bibliotecznej -\", np.allclose(np.linalg.solve(r,q.T@B),sol))\n",
    "    return sol\n",
    "\n",
    "def back_substitution(A,B):\n",
    "    n = len(B)\n",
    "    x = [0]*n\n",
    "    suma = 0\n",
    "    \n",
    "    for i in range(n-1,-1,-1):\n",
    "        suma = 0\n",
    "        \n",
    "        for j in range(n-1, i, -1):\n",
    "            suma += A[i][j]*x[j]\n",
    "            \n",
    "        x[i]=(B[i] - suma) / A[i][i]\n",
    "    \n",
    "    return x"
   ]
  },
  {
   "cell_type": "code",
   "execution_count": 13,
   "metadata": {},
   "outputs": [
    {
     "name": "stdout",
     "output_type": "stream",
     "text": [
      "Wyniki funkcji jest podobny do wyniku f. bibliotecznej - True\n"
     ]
    },
    {
     "data": {
      "text/plain": [
       "[0.23443223443223443, 0.12454212454212456, 0.8827838827838829]"
      ]
     },
     "execution_count": 13,
     "metadata": {},
     "output_type": "execute_result"
    }
   ],
   "source": [
    "A = np.array([\n",
    "[4, 17 ,9],\n",
    "[7, 35, 0],\n",
    "[9, 1, 2]])\n",
    "B = np.array([11, 6, 4])\n",
    "\n",
    "solve_equations(A,B)"
   ]
  },
  {
   "cell_type": "markdown",
   "metadata": {},
   "source": [
    "Poniższe funkcje służą przedstawieniu wykorzystania zaimplementowanych funkcji do rozwiązania problemu aproksymacji średniokwadratowej dla podanej funkcji _f(a,x)_ i punktów x,y.<br><br>\n",
    "Funkcja _x_matrix(x)_ tworzy macierz potrzebną do przedstawiania układu równań macierzowo.<br><br>\n",
    "Funkcja _f(a,x)_ przedstawia funkcję kwadratową w zalezności od współczynników a i wartości x.\n",
    "<br><br>\n",
    "Funkcja _do_approx(x,y)_ wykonuje aproksymację średniokwadratową zbioru punktów (x,y) dla modelu _f(a,x)_. Wywołaywana jest funkcja _solve_equations(x_matrix,y)_ wykorzystująca dekompozycję QR to rozwiązana układu równań. Wynikiem jej działania są współczynniki, pojawiające się w funkcji _f(a,x)_. Następnie definiowany jest zbiór punktów xs, dla którego wywoływana jest funkcja aproksymująca _f(a,x)_. Nastęnie rysowany jest wykres zawierający funkcję aproksymującą i podane w zadaniu punkty."
   ]
  },
  {
   "cell_type": "code",
   "execution_count": 14,
   "metadata": {},
   "outputs": [],
   "source": [
    "def x_matrix(x):\n",
    "    m = []\n",
    "    for el in x:\n",
    "        m.append([1,el,el**2])\n",
    "        \n",
    "    return np.array(m)\n",
    "\n",
    "\n",
    "def f(a,x):\n",
    "    return a[0]+a[1]*x+a[2]*x**2\n",
    "\n",
    "\n",
    "def do_approx(x,y):\n",
    "    x_m = x_matrix(x)\n",
    "    a = solve_equations(x_m,y)\n",
    "    \n",
    "    xs = np.arange(-6,6,0.05)\n",
    "    points = [f(a,xi) for xi in xs]\n",
    "    \n",
    "    plt.figure(num=1,figsize=(15,10))\n",
    "    plt.plot(x,y, 'mD')\n",
    "    plt.plot(xs,points, 'c')\n",
    "    plt.xlabel('x')\n",
    "    plt.ylabel('y')"
   ]
  },
  {
   "cell_type": "code",
   "execution_count": 15,
   "metadata": {},
   "outputs": [
    {
     "name": "stdout",
     "output_type": "stream",
     "text": [
      "Wyniki funkcji jest podobny do wyniku f. bibliotecznej - True\n"
     ]
    },
    {
     "data": {
      "image/png": "[encoded data removed]",
      "text/plain": [
       "<Figure size 1080x720 with 1 Axes>"
      ]
     },
     "metadata": {
      "needs_background": "light"
     },
     "output_type": "display_data"
    }
   ],
   "source": [
    "x = np.arange(-5,6,1)\n",
    "y = [2,7,9,12,13,14,14,13,10,8,4]\n",
    "\n",
    "do_approx(x,y)"
   ]
  },
  {
   "cell_type": "markdown",
   "metadata": {},
   "source": [
    "***\n",
    "### Wnioski\n",
    "Funkcja aproksymująca dobrze przybliżyła kształt tworzony przez podany zbiór punktów. Dekompozycja QR daje dobre wyniki w przypadku aproksymacji średniokwadratowej, jak i rozwiązywania układów równań, nawet gdy macierz wejściowa A jest źle uwarunkowana. Jednak wraz ze wzrostem współczynnika uwarunkowania, wzrasta błąd reprezentacji liczb, przez co wyniki dekompozycji QR nie są bezbłędne.<br><br>\n"
   ]
  }
 ],
 "metadata": {
  "kernelspec": {
   "display_name": "Python 3",
   "language": "python",
   "name": "python3"
  },
  "language_info": {
   "codemirror_mode": {
    "name": "ipython",
    "version": 3
   },
   "file_extension": ".py",
   "mimetype": "text/x-python",
   "name": "python",
   "nbconvert_exporter": "python",
   "pygments_lexer": "ipython3",
   "version": "3.7.6"
  }
 },
 "nbformat": 4,
 "nbformat_minor": 4
}
