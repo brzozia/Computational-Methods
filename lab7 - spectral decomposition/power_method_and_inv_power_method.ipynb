{
 "cells": [
  {
   "cell_type": "markdown",
   "metadata": {},
   "source": [
    "Natalia Brzozowska\n",
    "# Laboratorium 7\n",
    "## Dekompozycja spektralna"
   ]
  },
  {
   "cell_type": "markdown",
   "metadata": {},
   "source": [
    "***\n",
    "### 1. Metoda potegowa\n",
    "**Napisz funkcję obliczajacą metodą potegową dominujacą wartość własną (najwiekszą co\n",
    "do modułu) i odpowiadajacy jej wektor własny dla danej macierzy rzeczywistej symetrycznej.**\n",
    "  * Powtarzaj mnozenie wektora $x_{i}$ przez macierz $A$:\n",
    "       * $x_{i+1} = Ax_{i}$,\n",
    "       * dzieląc za każdym razem wektor wynikowy przez $||x_{i+1}||_{inf}$\n",
    "  * Element wektora $x_{i}$ o najwiekszej wartości bezwzglednej zbiega do dominującej wartości własnej\n",
    "  * Przeskalowany wektor $x_{i}$ zbiega do dominującego wektora własnego\n",
    "  * Obliczenia powinny sie zatrzymać po przekroczeniu maksymalnej liczby iteracji, albo w przypadku gdy $||x_{i} − x_{i+1}||$ < e (kryterium małej poprawki)\n",
    "  * Pod koniec obliczeń znormalizuj otrzymany wektor własny.\n",
    "***"
   ]
  },
  {
   "cell_type": "code",
   "execution_count": 1,
   "metadata": {},
   "outputs": [],
   "source": [
    "import numpy as np\n",
    "import matplotlib.pyplot as plt\n",
    "import math\n",
    "import time"
   ]
  },
  {
   "cell_type": "code",
   "execution_count": 2,
   "metadata": {},
   "outputs": [],
   "source": [
    "def make_symmetric_matrix(n):\n",
    "    rand_matrix = np.random.randint(1,100, size=(n,n))\n",
    "    matrix=np.tril(rand_matrix) +np.triu(rand_matrix.T,1)\n",
    "    return matrix\n",
    "\n",
    "def power_method(matrix,n,eps):\n",
    "    size=len(matrix)\n",
    "    x=np.ones(size)\n",
    "    k=1    \n",
    "    while(k<=n):\n",
    "        y=matrix@x\n",
    "        u=max(abs(y))\n",
    "        y=y/np.linalg.norm(y,np.inf)\n",
    "        err=np.linalg.norm(x-y)        \n",
    "        x=y\n",
    "        if(err<eps):\n",
    "            print(\"successful procedure\")\n",
    "            return u,x/np.linalg.norm(x)\n",
    "                           \n",
    "        k+=1\n",
    "    print(\"maximum number of iterations exceeded\")\n",
    "    return u,x/np.linalg.norm(x)\n",
    "\n",
    "\n",
    "def choose_eigen_form_numpy(x,u):\n",
    "    m=[]\n",
    "    i=0\n",
    "    for i in range(len(x)):\n",
    "        m.append(x[i][0])\n",
    "        i+=1\n",
    "    return u[0], np.array(m)\n",
    "        "
   ]
  },
  {
   "cell_type": "markdown",
   "metadata": {},
   "source": [
    "Funkcja *make_symmetric_matrix(n)* tworzy i zwraca macierz symetryczną o rozmiarze n.<br><br>\n",
    "Funkcja *power_method(matrix,n,eps)* oblicza dominującą wartosć własną macierzy *matrix* i odpowiadajacy jej wektor własny. Parametr *n* oznacza maksymalną ilość iteracji - mnożenia wektora własnego *x* przez macierz *matrix*. Parametr *eps* oznacza maksymalną różnicę, między wektorem *x* z poprzedniej iteracji, a wektorem *y* z obecnej. Jeśli realna różnica *err* będzie mniejsza od *eps* program się zakończy (kryterium małej poprawki).<br>\n",
    "Funkcja ta opiera się na zasadzie działanie metody potęgowej, czyli wielokrotnego mnożenia wektora własnego przez podaną macierz. Każdorazowo po pomnożeniu, wartość wektora zostaje podzielona przez normę \"nieskończoność\". Jeżeli różnica między kolejnymi wektorami będzie wystarczająco mała, algorytm zakończy działanie zwracając wektor własny *x* oraz wartość dominującą, którą w przybliżeniu jest element wektora *x* o największej wartości bezwzględnej.<br><br>\n",
    "Funkcja *choose_eigen_form_numpy(x,u)* wybiera dominującą wartość własną macierzy z wektora otrzymanego z funkcji *np.linalg.eig(matrix)*, oraz odpowiadający jej wektor własny."
   ]
  },
  {
   "cell_type": "code",
   "execution_count": 14,
   "metadata": {},
   "outputs": [
    {
     "name": "stdout",
     "output_type": "stream",
     "text": [
      "successful procedure\n",
      "eigenvalue 592.8872028588626 \n",
      "eigenvector [0.25704401 0.2730898  0.34730967 0.36866733 0.28588939 0.27671432\n",
      " 0.31330933 0.33864271 0.35533908 0.32465318]\n"
     ]
    }
   ],
   "source": [
    "matrix=make_symmetric_matrix(10)\n",
    "u,x = power_method(matrix,500000,1e-10)\n",
    "print(\"eigenvalue\", u,\"\\neigenvector\",x)"
   ]
  },
  {
   "cell_type": "markdown",
   "metadata": {},
   "source": [
    "***\n",
    "**Sprawdz poprawnosc działania programu porównujac własna implementacje\n",
    "z wynikami funkcji bibliotecznej.**"
   ]
  },
  {
   "cell_type": "code",
   "execution_count": 15,
   "metadata": {},
   "outputs": [
    {
     "name": "stdout",
     "output_type": "stream",
     "text": [
      "eigenvalue 592.8872028564613 \n",
      "eigenvector  [-0.25704401 -0.2730898  -0.34730967 -0.36866733 -0.28588939 -0.27671432\n",
      " -0.31330933 -0.33864271 -0.35533908 -0.32465318]\n",
      "\n",
      "eigenvalue 592.8872028564613 \n",
      "eigenvector (abs) [0.25704401 0.2730898  0.34730967 0.36866733 0.28588939 0.27671432\n",
      " 0.31330933 0.33864271 0.35533908 0.32465318]\n"
     ]
    }
   ],
   "source": [
    "nu,nx=np.linalg.eig(matrix)\n",
    "nnu,mnnx=choose_eigen_form_numpy(nx,nu)\n",
    "print(\"eigenvalue\", nnu,\"\\neigenvector \",mnnx)\n",
    "nnx=abs(mnnx)\n",
    "print(\"\\neigenvalue\", nnu,\"\\neigenvector (abs)\",nnx)"
   ]
  },
  {
   "cell_type": "code",
   "execution_count": 16,
   "metadata": {},
   "outputs": [
    {
     "name": "stdout",
     "output_type": "stream",
     "text": [
      "eigenvalues similar -  True\n",
      "eigenvectors similar -  True\n"
     ]
    }
   ],
   "source": [
    "print(\"eigenvalues similar - \",np.allclose(u,nnu))\n",
    "print(\"eigenvectors similar - \",np.allclose(x,nnx))"
   ]
  },
  {
   "cell_type": "markdown",
   "metadata": {},
   "source": [
    "Można zauważyć, że wartości obliczone przez *np.linalg.eig(matrix)* oraz przez *power_method(m,n,e)* są zgodne co do wartości bezwzględnej. Możliwym jest, że dla niektórych macierzy, znak wartości nie będzie zgodny. Implementacja *power_method(m,n,e)* nie uwzględnia znaku. <br>\n",
    "Zatem metoda potęgowa dobrze się sprawdza do obliczenia dominującej wartości własnej macierzy oraz odpowiadającego jej wektora (bez uwzględnienia znaku)."
   ]
  },
  {
   "cell_type": "markdown",
   "metadata": {},
   "source": [
    "***\n",
    "**Przedstaw na wykresie zależność czasu obliczeń od\n",
    "rozmiaru macierzy (rozmiary macierzy 100x100, 500x500, ...).**"
   ]
  },
  {
   "cell_type": "code",
   "execution_count": 6,
   "metadata": {},
   "outputs": [],
   "source": [
    "def chceck_corectness(u,x,matrix):\n",
    "    start=time.time()\n",
    "    nu,nx=np.linalg.eig(matrix)\n",
    "    end=time.time()\n",
    "    nnu,mnnx=choose_eigen_form_numpy(nx,nu)\n",
    "    nnx=abs(mnnx)\n",
    "    if(np.allclose(u,nnu)==False):\n",
    "        print(\"eigenvalues smilar - False\")\n",
    "    if(np.allclose(x,nnx)==False):\n",
    "        print(\"eigenvectors similar - False\")\n",
    "    return end-start\n",
    "    \n",
    "def power_method_time():\n",
    "    timearr=[]\n",
    "    numpytime=[]\n",
    "    size=[]\n",
    "    for i in range(50, 1800, 50):\n",
    "        size.append(i)\n",
    "        matrix=make_symmetric_matrix(i)\n",
    "        start=time.time()\n",
    "        u,x = power_method(matrix,500000,1e-10)\n",
    "        end=time.time()\n",
    "        numpytime.append(chceck_corectness(u,x,matrix))\n",
    "        timearr.append(end-start)\n",
    "        \n",
    "    plt.plot(size,timearr,'cd')\n",
    "    plt.ylabel('time')\n",
    "    plt.xlabel('size')\n",
    "    plt.title('POWER_METHOD: Duration of power method depending on matrix size')\n",
    "    plt.show()\n",
    "    \n",
    "    plt.plot(size,numpytime,'md')\n",
    "    plt.ylabel('time')\n",
    "    plt.xlabel('size')\n",
    "    plt.title('NP.LINALG.EIG: Duration of power method depending on matrix size')\n",
    "    plt.show()"
   ]
  },
  {
   "cell_type": "markdown",
   "metadata": {},
   "source": [
    "Funkcja *chceck_corectness(u,x,matrix)* wykonuje obliczenie wartości własnych macierzy i wektorów własnych korzystając z funkcji *np.linalg.eig(matrix)*, mierzy czas trwania tej funkcji, sprawdza czy wyliczone wartości zgadzają się z przekazanymi *x* - wektorem, *u* - wartością. Zwraca czas działania funkcji.<br><br>\n",
    "Funkcja *power_method_time()* tworzy macierz symetryczną, następnie mierzy czas działania funkcji *power_method(matrix,n,e)* i zapisuje w *timearr* oraz wykonuje funkcję *chceck_corectness(u,x,matrix)* i zapisuje wyniki tej funkcji w tabeli *numpytime*. <br>\n",
    "Następnie funkcja wyświetla wykres czasu w zależności od rozmiaru dla funkcji *power_method_time()*, a potem dla funkcji *chceck_corectness(u,x,matrix)*."
   ]
  },
  {
   "cell_type": "code",
   "execution_count": 7,
   "metadata": {},
   "outputs": [
    {
     "name": "stdout",
     "output_type": "stream",
     "text": [
      "successful procedure\n",
      "successful procedure\n",
      "successful procedure\n",
      "successful procedure\n",
      "successful procedure\n",
      "successful procedure\n",
      "successful procedure\n",
      "successful procedure\n",
      "successful procedure\n",
      "successful procedure\n",
      "successful procedure\n",
      "successful procedure\n",
      "successful procedure\n",
      "successful procedure\n",
      "successful procedure\n",
      "successful procedure\n",
      "successful procedure\n",
      "successful procedure\n",
      "successful procedure\n",
      "successful procedure\n",
      "successful procedure\n",
      "successful procedure\n",
      "successful procedure\n",
      "successful procedure\n",
      "successful procedure\n",
      "successful procedure\n",
      "successful procedure\n",
      "successful procedure\n",
      "successful procedure\n",
      "successful procedure\n",
      "successful procedure\n",
      "successful procedure\n",
      "successful procedure\n",
      "successful procedure\n",
      "successful procedure\n"
     ]
    },
    {
     "data": {
      "image/png": "[encoded data removed]",
      "text/plain": [
       "<Figure size 432x288 with 1 Axes>"
      ]
     },
     "metadata": {
      "needs_background": "light"
     },
     "output_type": "display_data"
    },
    {
     "data": {
      "image/png": "[encoded data removed]",
      "text/plain": [
       "<Figure size 432x288 with 1 Axes>"
      ]
     },
     "metadata": {
      "needs_background": "light"
     },
     "output_type": "display_data"
    }
   ],
   "source": [
    "power_method_time()"
   ]
  },
  {
   "cell_type": "markdown",
   "metadata": {},
   "source": [
    "Na obu wykresach widać, że wraz ze wzrostem rozmiaru macierzy, wzrasta czas działania funkcji. Jednak do rozmiary macierzy $250x250$ czas trwania funkcji *power_method(m,n,e)* jest bardzo niski i prawie się nie zmienia. Czas trwania zaimplementowanej wyżej funkcji, jest zdecydowanie niższy, niż czas trwania funkji bibliotecznej. Funkcja biblioteczna jednak wylicza wszytskie wektory i wartości własne oraz owzględnia znak. Kształty obu wykresów są bardzo podobne."
   ]
  },
  {
   "cell_type": "markdown",
   "metadata": {},
   "source": [
    "***\n",
    "### 2. Odwrotna metoda potegowa\n",
    "**Opierąjc sie na twierdzeniu o transformacji widma macierzy:**<br>\n",
    "   * *Twierdzenie 1. Macierz $(A−sI)^{−1}$ (jeśli istnieje), to ma wartości własne równe $1/l_{k} − s$ ($l_{k}$ jest k-ta wartościa macierzy A) i wektory własne identyczne z macierzą A.*<br>\n",
    "   \n",
    "**oraz wykorzystując metode potegową i faktoryzację LU zaimplementuj odwrotną metodę\n",
    "potegową pozwalajacą na szybkie znalezienie wektorów własnych macierzy A, dla wartości\n",
    "s bliskich odpowiedniej wartości własnej. Wykorzystaj fakt, ze mnożenie wektora $x_{i}$\n",
    "przez macierz $A^{−1} (x_{i+1} = A^{−1}x_{i})$ odpowiada rozwiazaniu układu równań $Ax_{i+1} = x_{i}$.**\n",
    "***"
   ]
  },
  {
   "cell_type": "code",
   "execution_count": 8,
   "metadata": {},
   "outputs": [],
   "source": [
    "import scipy.linalg"
   ]
  },
  {
   "cell_type": "code",
   "execution_count": 9,
   "metadata": {},
   "outputs": [],
   "source": [
    "def inv_power_method(matrix,n,eps):\n",
    "    values, vectors=np.linalg.eig(matrix)\n",
    "    size=len(matrix)\n",
    "    I=np.identity(size)\n",
    "    r=[]\n",
    "    sig=[]\n",
    "    for i in range(len(vectors)):\n",
    "        sigma = round(values[i],1)\n",
    "        sig.append(sigma)\n",
    "        x=np.ones(size)\n",
    "        k=0\n",
    "        P,L,U = scipy.linalg.lu(matrix-sigma*I)\n",
    "        while(k<n):\n",
    "            y=np.linalg.solve(P@L@U,x)\n",
    "            y=(y/np.linalg.norm(y,np.inf))\n",
    "            err=np.linalg.norm(x-y,np.inf)\n",
    "            x=y\n",
    "            if(err<eps):\n",
    "                r.append(x/np.linalg.norm(x))\n",
    "                break;\n",
    "            k+=1\n",
    "        if k==n:\n",
    "            r.append(x/np.linalg.norm(x))\n",
    "    r=np.array(r)\n",
    "    return r.T, sig\n",
    "\n",
    "\n",
    "\n",
    "def check_results(ri,nr):\n",
    "    for i in range(len(ri)):\n",
    "        print(\"eigenvectors similar - \",np.allclose(ri[i],nr[i]))"
   ]
  },
  {
   "cell_type": "markdown",
   "metadata": {},
   "source": [
    "Funkcja *inv_power_method(matrix,n,eps)* jest implementacją odwrotnej metody potęgowej, która określa wartość sigma dla każdej wartości własnej macierzy zaokrąglając ją do pierwszego miejsca po przecinku, by nastęnie obliczyć wektor własny tejże macierzy. Dla każdej wartości sigma wykonywana jest dekompozycja LU macierzy $A-sI$ (s=sigma), następnie obliczane jest rozwiązanie równania  $Ax_{i+1} = x_{i}$, korzystając ze wcześniej wyznaczonych macierzy $PLU$. Kolejnym krokiem jest, podobnie jak w metodzie potęgowej, dzielenie wyniku równania przez normę w nieskończoności z tegoż wyniku. Dwa powyższe działania wykonywane są do momentu przekroczenia określonej ilości iteracji *n* lub gdy różnica między kolejnymi wyliczonymi wektorami będzie wystarczająco mała. Wtedy wektor wynikowy dodawany jest do tablicy i algorytm jest powtarzany dla kolejnej sigmy.<br>\n",
    "Funkcja zwraca transponowaną macierz wektorów własnych, by móc prościej porównać ją z wynikami funkcji *np.linalg.eig(matrix)* oraz wartości sigmy.<br><br>\n",
    "Funkcja *check_results(ri,nr)* sprawdza zgodność kolejnych wektorów otrzymanych z zaimplementowanej funkcji oraz funkcji bibliotecznej."
   ]
  },
  {
   "cell_type": "code",
   "execution_count": 10,
   "metadata": {},
   "outputs": [
    {
     "name": "stdout",
     "output_type": "stream",
     "text": [
      "inv_power_method sigmas\n",
      " [128.2, -43.4, 25.3] \n",
      "inv_power_method eigenvectors \n",
      " [[ 0.72273359 -0.64232634 -0.18818189]\n",
      " [ 0.65550812  0.75073704 -0.74558652]\n",
      " [ 0.21900973  0.15430738  0.63928735]]\n",
      "\n",
      "numpy eigenvelues\n",
      " [128.1723799  -43.44258189  25.27020199] \n",
      "numpy eigenvectors \n",
      " [[-0.72273359 -0.64232634 -0.18818189]\n",
      " [-0.65550812  0.75073704 -0.74558652]\n",
      " [-0.21900973  0.15430738  0.63928735]]\n"
     ]
    }
   ],
   "source": [
    "matrix = np.random.randint(100, size=(3,3))\n",
    "result,sig=inv_power_method(matrix,5000,1e-20)\n",
    "print(\"inv_power_method sigmas\\n\",sig,\"\\ninv_power_method eigenvectors \\n\",result)\n",
    "nu,nx=np.linalg.eig(matrix)\n",
    "print(\"\\nnumpy eigenvelues\\n\",nu, \"\\nnumpy eigenvectors \\n\",nx)"
   ]
  },
  {
   "cell_type": "code",
   "execution_count": 11,
   "metadata": {},
   "outputs": [
    {
     "name": "stdout",
     "output_type": "stream",
     "text": [
      "eigenvectors similar -  True\n",
      "eigenvectors similar -  True\n",
      "eigenvectors similar -  True\n"
     ]
    }
   ],
   "source": [
    "check_results(abs(result),abs(nx))"
   ]
  },
  {
   "cell_type": "markdown",
   "metadata": {},
   "source": [
    "Jak można zauważyć, wartości obliczonych wektorów są zgodne co do wartości bezwzględnej, w niektórych przypadkach znak wartości nie jest ten sam."
   ]
  }
 ],
 "metadata": {
  "kernelspec": {
   "display_name": "Python 3",
   "language": "python",
   "name": "python3"
  },
  "language_info": {
   "codemirror_mode": {
    "name": "ipython",
    "version": 3
   },
   "file_extension": ".py",
   "mimetype": "text/x-python",
   "name": "python",
   "nbconvert_exporter": "python",
   "pygments_lexer": "ipython3",
   "version": "3.7.6"
  }
 },
 "nbformat": 4,
 "nbformat_minor": 4
}
