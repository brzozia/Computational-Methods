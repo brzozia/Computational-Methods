{
 "cells": [
  {
   "cell_type": "markdown",
   "metadata": {},
   "source": [
    "Natalia Brzozowska\n",
    "# Laboratorium 7\n",
    "## Dekompozycja spektralna"
   ]
  },
  {
   "cell_type": "markdown",
   "metadata": {},
   "source": [
    "***\n",
    "### 1. Metoda potegowa\n",
    "**Napisz funkcję obliczajacą metodą potegową dominujacą wartość własną (najwiekszą co\n",
    "do modułu) i odpowiadajacy jej wektor własny dla danej macierzy rzeczywistej symetrycznej.**\n",
    "  * Powtarzaj mnozenie wektora $x_{i}$ przez macierz $A$:\n",
    "       * $x_{i+1} = Ax_{i}$,\n",
    "       * dzieląc za każdym razem wektor wynikowy przez $||x_{i+1}||_{inf}$\n",
    "  * Element wektora $x_{i}$ o najwiekszej wartości bezwzglednej zbiega do dominującej wartości własnej\n",
    "  * Przeskalowany wektor $x_{i}$ zbiega do dominującego wektora własnego\n",
    "  * Obliczenia powinny sie zatrzymać po przekroczeniu maksymalnej liczby iteracji, albo w przypadku gdy $||x_{i} - x_{i+1}||$ < e (kryterium małej poprawki)\n",
    "  * Pod koniec obliczeń znormalizuj otrzymany wektor własny.\n",
    "***"
   ]
  },
  {
   "cell_type": "code",
   "execution_count": 23,
   "metadata": {},
   "outputs": [],
   "source": [
    "import numpy as np\n",
    "import matplotlib.pyplot as plt\n",
    "import math\n",
    "import time"
   ]
  },
  {
   "cell_type": "code",
   "execution_count": 35,
   "metadata": {},
   "outputs": [],
   "source": [
    "def make_symmetric_matrix(n):\n",
    "    rand_matrix = np.random.randint(1,100, size=(n,n))\n",
    "    matrix=np.tril(rand_matrix) +np.triu(rand_matrix.T,1)\n",
    "    return matrix\n",
    "\n",
    "def power_method(matrix,n,eps):\n",
    "    size=len(matrix)\n",
    "    x=np.ones(size)\n",
    "    k=1    \n",
    "    while(k<=n):\n",
    "        y=matrix@x\n",
    "        u=max(abs(y))\n",
    "        y=y/np.linalg.norm(y,np.inf)\n",
    "        err=np.linalg.norm(x-y)        \n",
    "        x=y\n",
    "        if(err<eps):\n",
    "            print(\"successful procedure\")\n",
    "            return u,x/np.linalg.norm(x)\n",
    "                           \n",
    "        k+=1\n",
    "    print(\"maximum number of iterations exceeded\")\n",
    "    return u,x/np.linalg.norm(x)\n",
    "\n",
    "\n",
    "def choose_eigen_form_numpy(x,u):\n",
    "    m=[]\n",
    "    i=0\n",
    "    for i in range(len(x)):\n",
    "        m.append(x[i][0])\n",
    "        i+=1\n",
    "    return u[0], np.array(m)\n",
    "        "
   ]
  },
  {
   "cell_type": "markdown",
   "metadata": {},
   "source": [
    "Funkcja *make_symmetric_matrix(n)* tworzy i zwraca macierz symetryczną o rozmiarze n.<br><br>\n",
    "Funkcja *power_method(matrix,n,eps)* oblicza dominującą wartosć własną macierzy *matrix* i odpowiadajacy jej wektor własny. Parametr *n* oznacza maksymalną ilość iteracji - mnożenia wektora własnego *x* przez macierz *matrix*. Parametr *eps* oznacza maksymalną różnicę, między wektorem *x* z poprzedniej iteracji, a wektorem *y* z obecnej. Jeśli realna różnica *err* będzie mniejsza od *eps* program się zakończy (kryterium małej poprawki).<br>\n",
    "Funkcja ta opiera się na zasadzie działanie metody potęgowej, czyli wielokrotnego mnożenia wektora własnego przez podaną macierz. Każdorazowo po pomnożeniu, wartość wektora zostaje podzielona przez normę \"nieskończoność\". Jeżeli różnica między kolejnymi wektorami będzie wystarczająco mała, algorytm zakończy działanie zwracając wektor własny *x* oraz wartość dominującą, którą w przybliżeniu jest element wektora *x* o największej wartości bezwzględnej.<br><br>\n",
    "Funkcja *choose_eigen_form_numpy(x,u)* wybiera dominującą wartość własną macierzy z wektora otrzymanego z funkcji *np.linalg.eig(matrix)*, oraz odpowiadający jej wektor własny."
   ]
  },
  {
   "cell_type": "code",
   "execution_count": 44,
   "metadata": {},
   "outputs": [
    {
     "name": "stdout",
     "output_type": "stream",
     "text": [
      "successful procedure\n",
      "eigenvalue 567.5210741146642 \n",
      "eigenvector [0.30570337 0.28143593 0.35617167 0.23219329 0.31318523 0.35876026\n",
      " 0.30389458 0.32396001 0.30723254 0.357882  ]\n"
     ]
    }
   ],
   "source": [
    "matrix=make_symmetric_matrix(10)\n",
    "u,x = power_method(matrix,5000,1e-12)\n",
    "print(\"eigenvalue\", u,\"\\neigenvector\",x)"
   ]
  },
  {
   "cell_type": "code",
   "execution_count": 49,
   "metadata": {},
   "outputs": [
    {
     "name": "stdout",
     "output_type": "stream",
     "text": [
      "maximum number of iterations exceeded\n",
      "eigenvalue 567.5210474672117 \n",
      "eigenvector [0.30570336 0.28143593 0.35617167 0.2321933  0.31318523 0.35876026\n",
      " 0.30389459 0.32396002 0.30723253 0.35788199]\n"
     ]
    }
   ],
   "source": [
    "u2,x2 = power_method(matrix,5,1e-12)\n",
    "print(\"eigenvalue\", u,\"\\neigenvector\",x)"
   ]
  },
  {
   "cell_type": "markdown",
   "metadata": {},
   "source": [
    "Powyżej obliczono wektor i wartość własną dominującą dla danej macierzy. Wywołania różnią się ilością iteracji. Można zauważyć, że nawet dla bardzo niewielkiej ilość iteracji (jak w drugim wywołaniu - 5 iteracji), wyniki są bardzo bliskie wynikom obliczonym przez funkcję biblioteczną (poniżej). Jednak, żeby uzyskać odpowiednie wyniki trzeba ustawić wystarczająco dużą ilość dozwilonych iteracji oraz odpowiedni błąd *eps*."
   ]
  },
  {
   "cell_type": "markdown",
   "metadata": {},
   "source": [
    "***\n",
    "**Sprawdz poprawnosc działania programu porównujac własna implementacje\n",
    "z wynikami funkcji bibliotecznej.**"
   ]
  },
  {
   "cell_type": "code",
   "execution_count": 50,
   "metadata": {},
   "outputs": [
    {
     "name": "stdout",
     "output_type": "stream",
     "text": [
      "eigenvalue 567.5210741146778 \n",
      "eigenvector  [-0.30570337 -0.28143593 -0.35617167 -0.23219329 -0.31318523 -0.35876026\n",
      " -0.30389458 -0.32396001 -0.30723254 -0.357882  ]\n",
      "\n",
      "eigenvalue 567.5210741146778 \n",
      "eigenvector (abs) [0.30570337 0.28143593 0.35617167 0.23219329 0.31318523 0.35876026\n",
      " 0.30389458 0.32396001 0.30723254 0.357882  ]\n"
     ]
    }
   ],
   "source": [
    "nu,nx=np.linalg.eig(matrix)\n",
    "nnu,mnnx=choose_eigen_form_numpy(nx,nu)\n",
    "print(\"eigenvalue\", nnu,\"\\neigenvector \",mnnx)\n",
    "nnx=abs(mnnx)\n",
    "print(\"\\neigenvalue\", nnu,\"\\neigenvector (abs)\",nnx)"
   ]
  },
  {
   "cell_type": "code",
   "execution_count": 51,
   "metadata": {},
   "outputs": [
    {
     "name": "stdout",
     "output_type": "stream",
     "text": [
      "eigenvalues similar -  True\n",
      "eigenvectors similar -  True\n"
     ]
    }
   ],
   "source": [
    "print(\"eigenvalues similar - \",np.allclose(u,nnu))\n",
    "print(\"eigenvectors similar - \",np.allclose(x,nnx))"
   ]
  },
  {
   "cell_type": "markdown",
   "metadata": {},
   "source": [
    "Można zauważyć, że wartości obliczone przez *np.linalg.eig(matrix)* oraz przez *power_method(m,n,e)* są zgodne co do wartości bezwzględnej. Możliwym jest, że dla niektórych macierzy, znak wartości nie będzie zgodny. Implementacja *power_method(m,n,e)* nie uwzględnia znaku. <br>\n",
    "Zatem metoda potęgowa dobrze się sprawdza do obliczenia dominującej wartości własnej macierzy oraz odpowiadającego jej wektora (bez uwzględnienia znaku)."
   ]
  },
  {
   "cell_type": "markdown",
   "metadata": {},
   "source": [
    "***\n",
    "**Przedstaw na wykresie zależność czasu obliczeń od\n",
    "rozmiaru macierzy (rozmiary macierzy 100x100, 500x500, ...).**"
   ]
  },
  {
   "cell_type": "code",
   "execution_count": 46,
   "metadata": {},
   "outputs": [],
   "source": [
    "def chceck_corectness(u,x,matrix):\n",
    "    start=time.time()\n",
    "    nu,nx=np.linalg.eig(matrix)\n",
    "    end=time.time()\n",
    "    nnu,mnnx=choose_eigen_form_numpy(nx,nu)\n",
    "    nnx=abs(mnnx)\n",
    "    if(np.allclose(u,nnu)==False):\n",
    "        print(\"eigenvalues smilar - False\")\n",
    "    if(np.allclose(x,nnx)==False):\n",
    "        print(\"eigenvectors similar - False\")\n",
    "    return end-start\n",
    "    \n",
    "def power_method_time():\n",
    "    timearr=[]\n",
    "    numpytime=[]\n",
    "    size=[]\n",
    "    for i in range(50, 1800, 50):\n",
    "        size.append(i)\n",
    "        matrix=make_symmetric_matrix(i)\n",
    "        start=time.time()\n",
    "        u,x = power_method(matrix,5000,1e-10)\n",
    "        end=time.time()\n",
    "        numpytime.append(chceck_corectness(u,x,matrix))\n",
    "        timearr.append(end-start)\n",
    "        \n",
    "    plt.plot(size,timearr,'cd')\n",
    "    plt.ylabel('time')\n",
    "    plt.xlabel('size')\n",
    "    plt.title('POWER_METHOD: Duration of power method depending on matrix size')\n",
    "    plt.show()\n",
    "    \n",
    "    plt.plot(size,numpytime,'md')\n",
    "    plt.ylabel('time')\n",
    "    plt.xlabel('size')\n",
    "    plt.title('NP.LINALG.EIG: Duration of power method depending on matrix size')\n",
    "    plt.show()"
   ]
  },
  {
   "cell_type": "markdown",
   "metadata": {},
   "source": [
    "Funkcja *chceck_corectness(u,x,matrix)* wykonuje obliczenie wartości własnych macierzy i wektorów własnych korzystając z funkcji *np.linalg.eig(matrix)*, mierzy czas trwania tej funkcji, sprawdza czy wyliczone wartości zgadzają się z przekazanymi *x* - wektorem, *u* - wartością. Zwraca czas działania funkcji.<br><br>\n",
    "Funkcja *power_method_time()* tworzy macierz symetryczną, następnie mierzy czas działania funkcji *power_method(matrix,n,e)* i zapisuje w *timearr* oraz wykonuje funkcję *chceck_corectness(u,x,matrix)* i zapisuje wyniki tej funkcji w tabeli *numpytime*. <br>\n",
    "Następnie funkcja wyświetla wykres czasu w zależności od rozmiaru dla funkcji *power_method_time()*, a potem dla funkcji *chceck_corectness(u,x,matrix)*."
   ]
  },
  {
   "cell_type": "code",
   "execution_count": 47,
   "metadata": {},
   "outputs": [
    {
     "name": "stdout",
     "output_type": "stream",
     "text": [
      "successful procedure\n",
      "successful procedure\n",
      "successful procedure\n",
      "successful procedure\n",
      "successful procedure\n",
      "successful procedure\n",
      "successful procedure\n",
      "successful procedure\n",
      "successful procedure\n",
      "successful procedure\n",
      "successful procedure\n",
      "successful procedure\n",
      "successful procedure\n",
      "successful procedure\n",
      "successful procedure\n",
      "successful procedure\n",
      "successful procedure\n",
      "successful procedure\n",
      "successful procedure\n",
      "successful procedure\n",
      "successful procedure\n",
      "successful procedure\n",
      "successful procedure\n",
      "successful procedure\n",
      "successful procedure\n",
      "successful procedure\n",
      "successful procedure\n",
      "successful procedure\n",
      "successful procedure\n",
      "successful procedure\n",
      "successful procedure\n",
      "successful procedure\n",
      "successful procedure\n",
      "successful procedure\n",
      "successful procedure\n"
     ]
    },
    {
     "data": {
      "image/png": "[encoded data removed]",
      "text/plain": [
       "<Figure size 432x288 with 1 Axes>"
      ]
     },
     "metadata": {
      "needs_background": "light"
     },
     "output_type": "display_data"
    },
    {
     "data": {
      "image/png": "[encoded data removed]",
      "text/plain": [
       "<Figure size 432x288 with 1 Axes>"
      ]
     },
     "metadata": {
      "needs_background": "light"
     },
     "output_type": "display_data"
    }
   ],
   "source": [
    "power_method_time()"
   ]
  },
  {
   "cell_type": "markdown",
   "metadata": {},
   "source": [
    "Na obu wykresach widać, że wraz ze wzrostem rozmiaru macierzy, wzrasta czas działania funkcji. Jednak do rozmiaru macierzy około $250x250$ czas trwania funkcji *power_method(m,n,e)* jest bardzo niski i prawie się nie zmienia. Czas trwania zaimplementowanej wyżej funkcji, jest zdecydowanie niższy, niż czas trwania funkji bibliotecznej. Funkcja biblioteczna jednak wylicza wszytskie wektory i wartości własne oraz owzględnia znak. Kształty obu wykresów są bardzo podobne."
   ]
  },
  {
   "cell_type": "markdown",
   "metadata": {},
   "source": [
    "***\n",
    "### 2. Odwrotna metoda potegowa\n",
    "**Opierąjc sie na twierdzeniu o transformacji widma macierzy:**<br>\n",
    "   * *Twierdzenie 1. Macierz $(A-sI)^{-1}$ (jeśli istnieje), to ma wartości własne równe $1/l_{k}-s$ ($l_{k}$ jest k-ta wartościa macierzy A) i wektory własne identyczne z macierzą A.*<br>\n",
    "   \n",
    "**oraz wykorzystując metode potegową i faktoryzację LU zaimplementuj odwrotną metodę\n",
    "potegową pozwalajacą na szybkie znalezienie wektorów własnych macierzy A, dla wartości\n",
    "s bliskich odpowiedniej wartości własnej. Wykorzystaj fakt, ze mnożenie wektora $x_{i}$\n",
    "przez macierz $A^{-1} (x_{i+1} = A^{-1}x_{i})$ odpowiada rozwiazaniu układu równań $Ax_{i+1} = x_{i}$.**\n",
    "***"
   ]
  },
  {
   "cell_type": "code",
   "execution_count": 4,
   "metadata": {},
   "outputs": [],
   "source": [
    "import scipy.linalg"
   ]
  },
  {
   "cell_type": "code",
   "execution_count": 12,
   "metadata": {},
   "outputs": [],
   "source": [
    "def essence(matrix,n,eps,sigma):\n",
    "    size=len(matrix)\n",
    "    I=np.identity(size)\n",
    "    x=np.ones(size)\n",
    "    k=0\n",
    "    P,L,U = scipy.linalg.lu(matrix-sigma*I)\n",
    "    while(k<n):\n",
    "        y=np.linalg.solve(P@L@U,x)\n",
    "        y=(y/np.linalg.norm(y,np.inf))\n",
    "        err=np.linalg.norm(x-y,np.inf)\n",
    "        x=y\n",
    "        if(err<eps):\n",
    "            return x/np.linalg.norm(x), sigma\n",
    "            break;\n",
    "        k+=1\n",
    "    if k==n:\n",
    "        return x/np.linalg.norm(x), sigma\n",
    "\n",
    "def inv_power_method(matrix,n,eps):\n",
    "    values, vectors=np.linalg.eig(matrix)\n",
    "    size=len(matrix)\n",
    "    I=np.identity(size)\n",
    "    r=[]\n",
    "    sig=[]\n",
    "    for i in range(len(vectors)):\n",
    "        sigma = round(values[i],1)\n",
    "        sx,ss=essence(matrix,n,eps,sigma)\n",
    "        r.append(sx)\n",
    "        sig.append(ss)\n",
    "    r=np.array(r)\n",
    "    return r.T, sig\n",
    "\n",
    "\n",
    "\n",
    "def check_results(ri,nr):\n",
    "    for i in range(len(ri)):\n",
    "        print(\"eigenvectors similar - \",np.allclose(ri[i],nr[i]))"
   ]
  },
  {
   "cell_type": "markdown",
   "metadata": {},
   "source": [
    "Funkcja *essence(matrix,n,eps,sigma)* jest implementacją odwrotnej metody potęgowej. Dla określonej wartości sigma wykonywana jest dekompozycja LU macierzy $A-sI$ (s=sigma), następnie obliczane jest rozwiązanie równania  $Ax_{i+1} = x_{i}$, korzystając ze wcześniej wyznaczonych macierzy $PLU$. Kolejnym krokiem jest, podobnie jak w metodzie potęgowej, dzielenie wyniku równania przez normę w nieskończoności z tegoż wyniku. Dwa powyższe działania wykonywane są do momentu przekroczenia określonej ilości iteracji *n* lub gdy różnica między kolejnymi wyliczonymi wektorami będzie wystarczająco mała. Wtedy zwracany jest znormalizowany obliczony wektor oraz podana wartość sigma.<br><br>\n",
    "Funkcja *inv_power_method(matrix,n,eps)* przeprowadza odwrotną metodę potęgową chcąc uzyskać wszystkie wektory własne. Wartości sigma są obliczone dla każdej wartości własnej macierzy zaokrąglając ją do pierwszego miejsca po przecinku. Wtedy wołana jest funkcja *essence(matrix,n,eps,sigma)*, której rezultaty zapisywane są w macierzy *r* oraz *sig*.<br>\n",
    "Funkcja zwraca transponowaną macierz wektorów własnych, by móc prościej porównać ją z wynikami funkcji *np.linalg.eig(matrix)* oraz zwraca wartości sigmy.<br><br>\n",
    "Funkcja *check_results(ri,nr)* sprawdza zgodność kolejnych wektorów otrzymanych z zaimplementowanej funkcji oraz funkcji bibliotecznej."
   ]
  },
  {
   "cell_type": "code",
   "execution_count": 13,
   "metadata": {},
   "outputs": [
    {
     "name": "stdout",
     "output_type": "stream",
     "text": [
      "inv_power_method sigmas\n",
      " [177.0, 47.0, -9.0] \n",
      "inv_power_method eigenvectors \n",
      " [[ 0.6849193  -0.80855779  0.19234197]\n",
      " [ 0.3334518   0.5836315   0.53262   ]\n",
      " [ 0.64783906  0.07489042 -0.82420901]]\n",
      "\n",
      "numpy eigenvelues\n",
      " [175.01521868  45.02086323 -11.03608191] \n",
      "numpy eigenvectors \n",
      " [[-0.6849193  -0.80855779 -0.19234197]\n",
      " [-0.3334518   0.5836315  -0.53262   ]\n",
      " [-0.64783906  0.07489042  0.82420901]]\n"
     ]
    }
   ],
   "source": [
    "matrix = np.random.randint(100, size=(3,3))\n",
    "result,sig=inv_power_method(matrix,5000,1e-20)\n",
    "print(\"inv_power_method sigmas\\n\",sig,\"\\ninv_power_method eigenvectors \\n\",result)\n",
    "nu,nx=np.linalg.eig(matrix)\n",
    "print(\"\\nnumpy eigenvelues\\n\",nu, \"\\nnumpy eigenvectors \\n\",nx)"
   ]
  },
  {
   "cell_type": "code",
   "execution_count": 14,
   "metadata": {},
   "outputs": [
    {
     "name": "stdout",
     "output_type": "stream",
     "text": [
      "eigenvectors similar -  True\n",
      "eigenvectors similar -  True\n",
      "eigenvectors similar -  True\n"
     ]
    }
   ],
   "source": [
    "check_results(abs(result),abs(nx))"
   ]
  },
  {
   "cell_type": "markdown",
   "metadata": {},
   "source": [
    "Jak można zauważyć, wartości obliczonych wektorów są zgodne co do wartości bezwzględnej, w niektórych przypadkach znak wartości nie jest ten sam."
   ]
  },
  {
   "cell_type": "code",
   "execution_count": 16,
   "metadata": {},
   "outputs": [
    {
     "data": {
      "text/plain": [
       "(array([ 0.19234197,  0.53262   , -0.82420901]), 0)"
      ]
     },
     "execution_count": 16,
     "metadata": {},
     "output_type": "execute_result"
    }
   ],
   "source": [
    "essence(matrix,10000,1e-10,0)"
   ]
  },
  {
   "cell_type": "code",
   "execution_count": 17,
   "metadata": {},
   "outputs": [
    {
     "data": {
      "text/plain": [
       "(array([-0.80855779,  0.5836315 ,  0.07489042]), 100)"
      ]
     },
     "execution_count": 17,
     "metadata": {},
     "output_type": "execute_result"
    }
   ],
   "source": [
    "essence(matrix,10000,1e-10,100)"
   ]
  },
  {
   "cell_type": "code",
   "execution_count": 20,
   "metadata": {},
   "outputs": [
    {
     "data": {
      "text/plain": [
       "(array([0.6849193 , 0.3334518 , 0.64783906]), 3000)"
      ]
     },
     "execution_count": 20,
     "metadata": {},
     "output_type": "execute_result"
    }
   ],
   "source": [
    "essence(matrix,10000,1e-10,3000)"
   ]
  },
  {
   "cell_type": "code",
   "execution_count": 21,
   "metadata": {},
   "outputs": [
    {
     "data": {
      "text/plain": [
       "(array([0.68357668, 0.33525572, 0.64832594]), 3000)"
      ]
     },
     "execution_count": 21,
     "metadata": {},
     "output_type": "execute_result"
    }
   ],
   "source": [
    "essence(matrix,100,1e-10,3000)"
   ]
  },
  {
   "cell_type": "markdown",
   "metadata": {},
   "source": [
    "Powyższe przykłady działania funkcji *essence(matrix,n,eps,sigma)* pokazują poprawność działania tej funkcji.<br>W pierwszym przypadku otrzymaliśmy ostatni wektor (czytany kolumnowo), pownieważ wartość $sigma=0$ jest najbliżej wartości własnej macierzy $-11.03608191$.<br>W trzecim przypadku możemy zobaczyć, że nawet dla wartości sigma bardzo odległej od wartości własnej algorytm daje poprawny wynik. <br>Ostatni przypadek pokazuje, że przy niewielkiej ilości iteracji ciężko jest uzyskać podaną różnicę między wektorami $eps$, dlatego warto wykonywać algorytmy potęgowe dla większej ilości iteracji."
   ]
  }
 ],
 "metadata": {
  "kernelspec": {
   "display_name": "Python 3",
   "language": "python",
   "name": "python3"
  },
  "language_info": {
   "codemirror_mode": {
    "name": "ipython",
    "version": 3
   },
   "file_extension": ".py",
   "mimetype": "text/x-python",
   "name": "python",
   "nbconvert_exporter": "python",
   "pygments_lexer": "ipython3",
   "version": "3.7.6"
  }
 },
 "nbformat": 4,
 "nbformat_minor": 4
}
