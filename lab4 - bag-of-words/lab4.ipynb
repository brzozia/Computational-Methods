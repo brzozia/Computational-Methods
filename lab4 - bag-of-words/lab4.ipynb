{
 "cells": [
  {
   "cell_type": "markdown",
   "metadata": {},
   "source": [
    "# Laboratorium 4\n",
    "## Singular Value Decomposition\n",
    "Natalia Brzozowska"
   ]
  },
  {
   "cell_type": "markdown",
   "metadata": {},
   "source": [
    "#### Zadanie 1. Wyszukiwarka"
   ]
  },
  {
   "cell_type": "markdown",
   "metadata": {},
   "source": [
    "###### 1. Ze strony internetowej https://ebible.org/find/details.php?id=eng-web&all=1 pobrałam 1402 rozdziały Biblii w formacie txt."
   ]
  },
  {
   "cell_type": "markdown",
   "metadata": {},
   "source": [
    "###### 2. Okresl słownik słów kluczowych"
   ]
  },
  {
   "cell_type": "code",
   "execution_count": 474,
   "metadata": {},
   "outputs": [
    {
     "name": "stderr",
     "output_type": "stream",
     "text": [
      "[nltk_data] Downloading package punkt to\n",
      "[nltk_data]     C:\\Users\\natalia\\AppData\\Roaming\\nltk_data...\n",
      "[nltk_data]   Package punkt is already up-to-date!\n"
     ]
    }
   ],
   "source": [
    "import os\n",
    "import io\n",
    "import re\n",
    "import nltk\n",
    "import numpy as np\n",
    "nltk.download('punkt')\n",
    "import string\n",
    "import math\n",
    "from sklearn.preprocessing import normalize"
   ]
  },
  {
   "cell_type": "code",
   "execution_count": 475,
   "metadata": {},
   "outputs": [],
   "source": [
    "def make_dictionary():\n",
    "    files = os.listdir('Bible_in_chapters/')\n",
    "    dictionary={}\n",
    "    for file in files:\n",
    "        f = io.open('Bible_in_chapters/'+file,encoding=\"utf8\")\n",
    "        wholeFile = f.read()\n",
    "        f.close()\n",
    "        sentences=wholeFile.split('\\n')\n",
    "        \n",
    "        for i in range(len(sentences)):\n",
    "            sentences[i] = sentences[i].lower()\n",
    "            sentences[i] = re.sub(r'[^\\w\\s]','',sentences[i])\n",
    "            sentences[i] = re.sub('[0-9]','',sentences[i])\n",
    "\n",
    "            words=nltk.word_tokenize(sentences[i])\n",
    "            for word in words:\n",
    "                if word in dictionary.keys():\n",
    "                    dictionary[word]+=1\n",
    "                else:\n",
    "                    dictionary[word]=1\n",
    "    \n",
    "    \n",
    "    return dictionary"
   ]
  },
  {
   "cell_type": "code",
   "execution_count": 476,
   "metadata": {
    "scrolled": true
   },
   "outputs": [],
   "source": [
    "dictionary = make_dictionary()"
   ]
  },
  {
   "cell_type": "markdown",
   "metadata": {},
   "source": [
    "Określiłam słownik termów robiąc unię wszytskich słow z dokumentów. W każdym słowie wielkość liter jest zmniejszana, usuwane są znaki interpunkcyjne oraz liczby. Dodatkowo, z ciekawości, zliczyłam występowanie poszczególnych słów. Słownik realizuję poprzez strukturę danych 'słownik', ponieważ wydawało mi się to lepszym rozwiązaniem (również bardziej czytelnym dla mnie). Część słownika oraz ilość wystąpień danych słów są przedstawione poniżej."
   ]
  },
  {
   "cell_type": "code",
   "execution_count": 477,
   "metadata": {},
   "outputs": [],
   "source": [
    "def show_words(n,diction):\n",
    "    listTuples = sorted(diction.items() ,  key=lambda x: x[1], reverse=True)\n",
    "\n",
    "    print(len(diction))\n",
    "    \n",
    "    \n",
    "    for elem in listTuples :\n",
    "        print(elem[0] , \" ::\" , elem[1] )\n",
    "        n-=1\n",
    "        if n==0:\n",
    "            break"
   ]
  },
  {
   "cell_type": "markdown",
   "metadata": {},
   "source": [
    "Dwadzieścia najczęściej występujących słów w tej wersji Biblli."
   ]
  },
  {
   "cell_type": "code",
   "execution_count": 478,
   "metadata": {
    "scrolled": true
   },
   "outputs": [
    {
     "name": "stdout",
     "output_type": "stream",
     "text": [
      "15450\n",
      "the  :: 67841\n",
      "and  :: 38623\n",
      "of  :: 38235\n",
      "to  :: 26192\n",
      "you  :: 16815\n",
      "in  :: 15760\n",
      "he  :: 12846\n",
      "will  :: 11413\n",
      "for  :: 11347\n",
      "a  :: 10954\n",
      "that  :: 10108\n",
      "his  :: 9987\n",
      "i  :: 9824\n",
      "they  :: 8818\n",
      "is  :: 8629\n",
      "your  :: 8475\n",
      "with  :: 8055\n",
      "who  :: 8006\n",
      "him  :: 7762\n",
      "be  :: 7257\n"
     ]
    }
   ],
   "source": [
    "show_words(20,dictionary)"
   ]
  },
  {
   "cell_type": "markdown",
   "metadata": {},
   "source": [
    "###### 3. Dla kazdego dokumentu j wyznacz wektor cech bag-of-words dj zawierajacy czestosci wystepowania poszczególnych słów (termów) w tekscie."
   ]
  },
  {
   "cell_type": "code",
   "execution_count": 479,
   "metadata": {},
   "outputs": [],
   "source": [
    "def make_vector(file):\n",
    "    words_freq={}\n",
    "    for word in dictionary.keys():\n",
    "        words_freq[word]=0\n",
    "    f = io.open(file,encoding=\"utf8\")\n",
    "    wholeFile = f.read()\n",
    "    f.close()\n",
    "    sentences=wholeFile.split('\\n')\n",
    "    \n",
    "    for i in range(len(sentences)):\n",
    "        sentences[i] = sentences[i].lower()\n",
    "        sentences[i] = re.sub(r'[^\\w\\s]','',sentences[i])\n",
    "        sentences[i] = re.sub('[0-9]','',sentences[i])\n",
    "        words=nltk.word_tokenize(sentences[i])\n",
    "        for word in words:\n",
    "            words_freq[word]+=1\n",
    "    return words_freq"
   ]
  },
  {
   "cell_type": "markdown",
   "metadata": {},
   "source": [
    "Napisałam funkcję tworzącą słownik zawierający zliczoną ilość słów z 'głównego słownika' w danym dokumencie.\n",
    "Tak jak dla 'głównego słownika', w każdym dokumencie wielkość liter jest zmniejszana, usuwane są znaki interpunkcyjne oraz liczby."
   ]
  },
  {
   "cell_type": "markdown",
   "metadata": {},
   "source": [
    "###### 4. Zbuduj rzadką macierz wektorów cech term-by-document matrix w której wektory cech ułozone sa kolumnowo."
   ]
  },
  {
   "cell_type": "code",
   "execution_count": 480,
   "metadata": {},
   "outputs": [],
   "source": [
    "def make_matrix():\n",
    "    files = os.listdir('Bible_in_chapters/')\n",
    "    matrix = []\n",
    "    vec={}\n",
    "    for file in files:\n",
    "        name = 'Bible_in_chapters/'+file\n",
    "        vec=make_vector(name)\n",
    "        matrix.append(vec)\n",
    "    return matrix"
   ]
  },
  {
   "cell_type": "code",
   "execution_count": 504,
   "metadata": {},
   "outputs": [],
   "source": [
    "term_by_doc = make_matrix()"
   ]
  },
  {
   "cell_type": "markdown",
   "metadata": {},
   "source": [
    "Tworzę macierz A, zawierającą wektory częstotliwości słów dla każdego dokumentu. Macierz zawiera słowniki, które traktuję jako wektory częstości."
   ]
  },
  {
   "cell_type": "code",
   "execution_count": 482,
   "metadata": {},
   "outputs": [
    {
     "name": "stdout",
     "output_type": "stream",
     "text": [
      "wiersze:  1402\n",
      "kolumny:  15450\n"
     ]
    }
   ],
   "source": [
    "print(\"wiersze: \",len(term_by_doc))\n",
    "print(\"kolumny: \",len(term_by_doc[0]))"
   ]
  },
  {
   "cell_type": "markdown",
   "metadata": {},
   "source": [
    "###### 5. Przetwórz wstepnie otrzymany zbiór danych mnozac elementy bag-of-words przez inverse document frequency."
   ]
  },
  {
   "cell_type": "markdown",
   "metadata": {},
   "source": [
    "Dwadzieścia najczęstszyc słów w 50 dokumencie, przed użyciem inverse-document-frequency:"
   ]
  },
  {
   "cell_type": "code",
   "execution_count": 483,
   "metadata": {},
   "outputs": [
    {
     "name": "stdout",
     "output_type": "stream",
     "text": [
      "15450\n",
      "the  :: 39\n",
      "and  :: 30\n",
      "of  :: 18\n",
      "them  :: 11\n",
      "they  :: 11\n",
      "to  :: 9\n",
      "in  :: 6\n",
      "with  :: 6\n",
      "all  :: 6\n",
      "egypt  :: 6\n",
      "midwives  :: 6\n",
      "you  :: 5\n",
      "israel  :: 5\n",
      "said  :: 4\n",
      "a  :: 4\n",
      "his  :: 4\n",
      "but  :: 4\n",
      "out  :: 4\n",
      "shall  :: 4\n",
      "more  :: 4\n"
     ]
    }
   ],
   "source": [
    "show_words(20,term_by_doc[50])"
   ]
  },
  {
   "cell_type": "code",
   "execution_count": 505,
   "metadata": {},
   "outputs": [],
   "source": [
    "def word_in_docs(w):\n",
    "    count=0\n",
    "    for p in range(len(term_by_doc)): \n",
    "        arr=term_by_doc[p]\n",
    "        if arr.get(w)!=0:\n",
    "            count+=1\n",
    "    return count\n",
    "\n",
    "    \n",
    "def idf():\n",
    "    keys=dictionary.keys()\n",
    "    N=int(len(term_by_doc))\n",
    "    for el in keys:\n",
    "        nw=int(word_in_docs(el))\n",
    "        wsk=float(math.log(N/nw))\n",
    "        for p in range(len(term_by_doc)):\n",
    "            line=term_by_doc[p]\n",
    "            line[el]=line.get(el)*wsk"
   ]
  },
  {
   "cell_type": "code",
   "execution_count": 506,
   "metadata": {},
   "outputs": [
    {
     "name": "stdout",
     "output_type": "stream",
     "text": [
      "eng-web_046_SIR_05_read.txt\n",
      "eng-web_046_SIR_08_read.txt\n",
      "eng-web_046_SIR_04_read.txt\n",
      "eng-web_046_SIR_09_read.txt\n",
      "eng-web_046_SIR_07_read.txt\n",
      "eng-web_046_SIR_32_read.txt\n"
     ]
    }
   ],
   "source": [
    "ask_me(\"dont be afraid\",6)"
   ]
  },
  {
   "cell_type": "code",
   "execution_count": 507,
   "metadata": {},
   "outputs": [
    {
     "name": "stdout",
     "output_type": "stream",
     "text": [
      "eng-web_020_PSA_070_read.txt\n",
      "eng-web_046_SIR_05_read.txt\n",
      "eng-web_019_JOB_25_read.txt\n",
      "eng-web_020_PSA_128_read.txt\n",
      "eng-web_020_PSA_112_read.txt\n",
      "eng-web_046_SIR_08_read.txt\n"
     ]
    }
   ],
   "source": [
    "ask_me_better(\"dont be afraid\",6)"
   ]
  },
  {
   "cell_type": "code",
   "execution_count": 508,
   "metadata": {},
   "outputs": [],
   "source": [
    "idf()"
   ]
  },
  {
   "cell_type": "markdown",
   "metadata": {},
   "source": [
    "Dwadzieścia najczęstszyc słów w 50 dokumencie, po użyciu inverse-document-frequency:"
   ]
  },
  {
   "cell_type": "code",
   "execution_count": 488,
   "metadata": {},
   "outputs": [
    {
     "name": "stdout",
     "output_type": "stream",
     "text": [
      "15450\n",
      "midwives  :: 43.473930405567216\n",
      "ruthlessly  :: 14.491310135189071\n",
      "hebrew  :: 12.463837842708658\n",
      "midwife  :: 12.294085557852851\n",
      "egypt  :: 10.441941189973036\n",
      "boys  :: 10.096860980516633\n",
      "multiplied  :: 9.66091013057816\n",
      "pharaoh  :: 9.504352871066448\n",
      "service  :: 8.744765181924613\n",
      "joseph  :: 8.705548937222554\n",
      "alive  :: 7.921454644819333\n",
      "pithom  :: 7.2456550675945355\n",
      "raamses  :: 7.2456550675945355\n",
      "shiphrah  :: 7.2456550675945355\n",
      "stool  :: 7.2456550675945355\n",
      "women  :: 6.626107395542718\n",
      "feared  :: 6.588822698026216\n",
      "mosis  :: 6.55250788703459\n",
      "birth  :: 6.205040682406005\n",
      "grew  :: 6.173543968469727\n"
     ]
    }
   ],
   "source": [
    "show_words(20,term_by_doc[50])"
   ]
  },
  {
   "cell_type": "markdown",
   "metadata": {},
   "source": [
    "Tworzę funkcje służące do mnożenia elementów macierzy A przez inverse document frequency. Funkcja word_in_docs() służy do zliczenia dokumentów w których dane słowo występuje. Przed wykonaniem funkcji i po jej wykonaniu wyświetliłam zawartość jednego z wektorów w macierzy A term-by-document, żeby sprawdzić zmiany, które ewidentnie zaszły. Można zauważyć, że znaczenie słowa 'the' zmalało i w tej linii wynosi teraz 'the  :: 0.05567452765622762', a przed wykonaniem funkcji idf() wynosiło 'the  :: 39'. Słowo 'the' jest najczęściej pojawiającym się słowem w tych dokumentach.\n",
    "\n",
    "W celu wykonania porównań w punkcie 9 przed funkcją idf() zostały wykonane zapytania 'ask_me' opisane później."
   ]
  },
  {
   "cell_type": "markdown",
   "metadata": {},
   "source": [
    "###### 6. Napisz program pozwalajacy na wprowadzenie zapytania (w postaci sekwencji słów) przekształcanego nastepnie do reprezentacji wektorowej q (bag-of-words). Program ma zwrócic k dokumentów najbardziej zblizonych do podanego zapytania q."
   ]
  },
  {
   "cell_type": "code",
   "execution_count": 489,
   "metadata": {},
   "outputs": [],
   "source": [
    "def ask_me(string,k):\n",
    "    new_vec={}\n",
    "    for word in dictionary.keys():\n",
    "        new_vec[word]=0\n",
    "    \n",
    "    string = string.lower()\n",
    "    string = re.sub(r'[^\\w\\s]','',string)\n",
    "    string = re.sub('[0-9]','',string)\n",
    "\n",
    "    words=nltk.word_tokenize(string)\n",
    "    for word in words:\n",
    "            new_vec[word]+=1\n",
    "    \n",
    "    q=np.array(list(new_vec.values()), dtype=np.float64)\n",
    "    qnorm=np.linalg.norm(q)\n",
    "    arr=[]\n",
    "    for i in range(len(term_by_doc)):\n",
    "        d_vec=np.array(list(term_by_doc[i].values()), dtype=np.float64)\n",
    "        dnorm=np.linalg.norm(d_vec)\n",
    "        if dnorm==0:\n",
    "            tup=((q.T @ d_vec),i)\n",
    "        else:\n",
    "            tup=(np.matmul(q.T, d_vec)/(qnorm*dnorm),i)\n",
    "        arr.append(tup)\n",
    "    \n",
    "    arr.sort(key = lambda x:x[0] ,reverse=True)  \n",
    "   \n",
    "\n",
    "    files = os.listdir('Bible_in_chapters/')\n",
    "    for i in range(k):\n",
    "        print(files[arr[i][1]])\n",
    "        \n",
    "    "
   ]
  },
  {
   "cell_type": "code",
   "execution_count": 490,
   "metadata": {},
   "outputs": [
    {
     "name": "stdout",
     "output_type": "stream",
     "text": [
      "eng-web_046_SIR_07_read.txt\n",
      "eng-web_046_SIR_08_read.txt\n",
      "eng-web_046_SIR_05_read.txt\n",
      "eng-web_046_SIR_04_read.txt\n",
      "eng-web_021_PRO_03_read.txt\n",
      "eng-web_046_SIR_09_read.txt\n"
     ]
    }
   ],
   "source": [
    "ask_me(\"dont be afraid\",6)"
   ]
  },
  {
   "cell_type": "markdown",
   "metadata": {},
   "source": [
    "Program tworzy wektor z podanej sekwencji słów, następnie oblicza korelację utworzonego wektora z każdym wektorem należącym do dokumentów i na tej podstawie porównuje na ile dokument pasuje do podanej sekwencji."
   ]
  },
  {
   "cell_type": "markdown",
   "metadata": {},
   "source": [
    "######  7. Zastosuj normalizacje wektorów cech dj i wektora q, tak aby miały one długosc 1."
   ]
  },
  {
   "cell_type": "code",
   "execution_count": 491,
   "metadata": {},
   "outputs": [],
   "source": [
    "def ask_me_better(string,k):\n",
    "    new_vec={}\n",
    "    for word in dictionary.keys():\n",
    "        new_vec[word]=0\n",
    "    \n",
    "    string = string.lower()\n",
    "    string = re.sub(r'[^\\w\\s]','',string)\n",
    "    string = re.sub('[0-9]','',string)\n",
    "\n",
    "    words=nltk.word_tokenize(string)\n",
    "    for word in words:\n",
    "            new_vec[word]+=1\n",
    "    \n",
    "    q=np.array(list(new_vec.values()), dtype=np.float64)\n",
    "    qnorm=np.linalg.norm(q)\n",
    "    q=q/qnorm\n",
    "    arr=[]\n",
    "    \n",
    "    for i in range(len(term_by_doc)):\n",
    "        d_vec=np.array(list(term_by_doc[i].values()), dtype=np.float64)\n",
    "        dnorm=np.linalg.norm(d_vec)\n",
    "        if dnorm==0:\n",
    "            tup=((q.T @ d_vec),i)\n",
    "        else:\n",
    "            d_vec=d_vec/dnorm\n",
    "            tup=((q.T @ d_vec)/(qnorm*dnorm),i)\n",
    "        arr.append(tup)\n",
    "   \n",
    "    \n",
    "    arr.sort(key = lambda x:x[0] ,reverse=True)  \n",
    "   \n",
    "\n",
    "    files = os.listdir('Bible_in_chapters/')\n",
    "    for i in range(k):\n",
    "        print(files[arr[i][1]])\n",
    "\n",
    "\n",
    "\n"
   ]
  },
  {
   "cell_type": "code",
   "execution_count": 492,
   "metadata": {},
   "outputs": [
    {
     "name": "stdout",
     "output_type": "stream",
     "text": [
      "eng-web_046_SIR_05_read.txt\n",
      "eng-web_046_SIR_08_read.txt\n",
      "eng-web_027_EZK_02_read.txt\n",
      "eng-web_046_SIR_07_read.txt\n",
      "eng-web_020_PSA_112_read.txt\n",
      "eng-web_024_ISA_12_read.txt\n"
     ]
    }
   ],
   "source": [
    "ask_me_better(\"dont be afraid\",6)"
   ]
  },
  {
   "cell_type": "markdown",
   "metadata": {},
   "source": [
    "Zmodyfikowałam obliczanie korealcji między wektorami normalizując je. Można zauważyć rozbieżność w dokumentach wybranych przez tą funkcję, a funkcję z poprzedniego puktu."
   ]
  },
  {
   "cell_type": "markdown",
   "metadata": {},
   "source": [
    "###### 8. W celu usuniecia szumu z macierzy A zastosuj SVD i low rank approximation"
   ]
  },
  {
   "cell_type": "code",
   "execution_count": 493,
   "metadata": {},
   "outputs": [],
   "source": [
    "def make_real_matrix(dicti):\n",
    "    matrix=[]\n",
    "    for row in dicti:\n",
    "        matrix.append(list(row.values()))\n",
    "    return matrix\n",
    "\n",
    "def make_dicti_again(matrix, dicti):\n",
    "    for i in range(len(dicti)):\n",
    "        j=0;\n",
    "        for el in dicti[i]:\n",
    "            dicti[i][el]=matrix[i][j]\n",
    "            j+=1\n",
    "\n",
    "def low_rank_appr(k,arr):\n",
    "    matrix=make_real_matrix(arr)\n",
    "    U,D,V=np.linalg.svd(matrix)\n",
    "    prod= np.matmul((U[:, :k]), np.diag(D[:k]))\n",
    "    prod2=np.matmul(prod,(V[:k, :]))\n",
    "    product=prod2.astype('uint8')\n",
    "    \n",
    "    return make_dicti_again(product, arr)"
   ]
  },
  {
   "cell_type": "code",
   "execution_count": 494,
   "metadata": {},
   "outputs": [],
   "source": [
    "low_rank_appr(1000,term_by_doc)"
   ]
  },
  {
   "cell_type": "code",
   "execution_count": 495,
   "metadata": {},
   "outputs": [
    {
     "name": "stdout",
     "output_type": "stream",
     "text": [
      "eng-web_046_SIR_05_read.txt\n",
      "eng-web_046_SIR_08_read.txt\n",
      "eng-web_046_SIR_04_read.txt\n",
      "eng-web_021_PRO_03_read.txt\n",
      "eng-web_046_SIR_09_read.txt\n",
      "eng-web_027_EZK_02_read.txt\n"
     ]
    }
   ],
   "source": [
    "ask_me(\"dont be afraid\",6)"
   ]
  },
  {
   "cell_type": "code",
   "execution_count": 496,
   "metadata": {},
   "outputs": [
    {
     "name": "stdout",
     "output_type": "stream",
     "text": [
      "eng-web_046_SIR_05_read.txt\n",
      "eng-web_020_PSA_028_read.txt\n",
      "eng-web_027_EZK_02_read.txt\n",
      "eng-web_022_ECC_11_read.txt\n",
      "eng-web_020_PSA_141_read.txt\n",
      "eng-web_046_SIR_08_read.txt\n"
     ]
    }
   ],
   "source": [
    "ask_me_better(\"dont be afraid\",6)"
   ]
  },
  {
   "cell_type": "code",
   "execution_count": 510,
   "metadata": {},
   "outputs": [
    {
     "name": "stdout",
     "output_type": "stream",
     "text": [
      "eng-web_045_WIS_15_read.txt\n",
      "eng-web_046_SIR_31_read.txt\n",
      "eng-web_089_JAS_01_read.txt\n",
      "eng-web_019_JOB_13_read.txt\n",
      "eng-web_021_PRO_28_read.txt\n",
      "eng-web_045_WIS_02_read.txt\n"
     ]
    }
   ],
   "source": [
    "term_by_doc = make_matrix()\n",
    "idf()\n",
    "low_rank_appr(20,term_by_doc)\n",
    "ask_me_better(\"dont be afraid\",6)"
   ]
  },
  {
   "cell_type": "code",
   "execution_count": 511,
   "metadata": {},
   "outputs": [
    {
     "name": "stdout",
     "output_type": "stream",
     "text": [
      "eng-web_019_JOB_35_read.txt\n",
      "eng-web_019_JOB_08_read.txt\n",
      "eng-web_046_SIR_05_read.txt\n",
      "eng-web_019_JOB_14_read.txt\n",
      "eng-web_036_HAB_01_read.txt\n",
      "eng-web_019_JOB_27_read.txt\n"
     ]
    }
   ],
   "source": [
    "term_by_doc = make_matrix()\n",
    "idf()\n",
    "low_rank_appr(100,term_by_doc)\n",
    "ask_me_better(\"dont be afraid\",6)"
   ]
  },
  {
   "cell_type": "code",
   "execution_count": 512,
   "metadata": {},
   "outputs": [
    {
     "name": "stdout",
     "output_type": "stream",
     "text": [
      "eng-web_020_PSA_070_read.txt\n",
      "eng-web_046_SIR_05_read.txt\n",
      "eng-web_020_PSA_004_read.txt\n",
      "eng-web_046_SIR_32_read.txt\n",
      "eng-web_046_SIR_08_read.txt\n",
      "eng-web_022_ECC_11_read.txt\n"
     ]
    }
   ],
   "source": [
    "term_by_doc = make_matrix()\n",
    "idf()\n",
    "low_rank_appr(500,term_by_doc)\n",
    "ask_me_better(\"dont be afraid\",6)"
   ]
  },
  {
   "cell_type": "code",
   "execution_count": 513,
   "metadata": {
    "scrolled": false
   },
   "outputs": [
    {
     "name": "stdout",
     "output_type": "stream",
     "text": [
      "eng-web_046_SIR_05_read.txt\n",
      "eng-web_020_PSA_070_read.txt\n",
      "eng-web_020_PSA_028_read.txt\n",
      "eng-web_022_ECC_11_read.txt\n",
      "eng-web_020_PSA_141_read.txt\n",
      "eng-web_089_JAS_04_read.txt\n"
     ]
    }
   ],
   "source": [
    "term_by_doc = make_matrix()\n",
    "idf()\n",
    "low_rank_appr(700,term_by_doc)\n",
    "ask_me_better(\"dont be afraid\",6)"
   ]
  },
  {
   "cell_type": "code",
   "execution_count": 514,
   "metadata": {},
   "outputs": [
    {
     "name": "stdout",
     "output_type": "stream",
     "text": [
      "eng-web_046_SIR_05_read.txt\n",
      "eng-web_020_PSA_141_read.txt\n",
      "eng-web_024_ISA_12_read.txt\n",
      "eng-web_027_EZK_02_read.txt\n",
      "eng-web_022_ECC_11_read.txt\n",
      "eng-web_020_PSA_028_read.txt\n"
     ]
    }
   ],
   "source": [
    "term_by_doc = make_matrix()\n",
    "idf()\n",
    "low_rank_appr(1200,term_by_doc)\n",
    "ask_me_better(\"dont be afraid\",6)"
   ]
  },
  {
   "cell_type": "markdown",
   "metadata": {},
   "source": [
    " Zastosowałam low rank approximation, analogicznie jak w poprzednim laboratorium. Funkcja pomocnicza make_real_matrix() tworzy tablicę liczb z tablicy słowników, a funkcja make_dicti_again() działa w drugą stronę (tworzy tablicę słowników z tablicy liczb).\n",
    "\n",
    "Wykonałam kilka zapytań dla różnych wartości k, które omówię w następnym punkcie."
   ]
  },
  {
   "cell_type": "markdown",
   "metadata": {},
   "source": [
    "###### 9. Porównanie działania"
   ]
  },
  {
   "cell_type": "code",
   "execution_count": 515,
   "metadata": {},
   "outputs": [],
   "source": [
    "#Wystąpienia poszczególnych słów i zwrotów w niektórych dokumentach\n",
    "\n",
    "# księga | dont | be | dont be | afraid | be afraid | dont be afraid\n",
    "# SIR 05 | 15   | 8  | 3       | 0      |  0        | 0\n",
    "# SIR 08 | 22   | 6  | 1       | 0      |  0        | 0\n",
    "# SIR 04 | 22   | 12 | 5       | 0      |  0        | 0\n",
    "# SIR 07 | 30   | 7  | 3       | 0      |  0        | 0\n",
    "# SIR 09 | 15   | 10 | 1       | 0      |  0        | 0\n",
    "# SIR 32 | 13   | 7  | 3       | 0      |  0        | 0\n",
    "# PRO 03 | 12   | 11 | 2       | 2      |  2(not)   | 1    w nawiasach zaznaczono jakie słowo było przed 'be afraid', jeśli nie dont \n",
    "# EZK 02 | 3    | 5  | 3       | 3      |  3(neither)| 2\n",
    "# JER 42 | 5    | 8  | 2       | 4      |  2        | 2\n",
    "# LUK 12 | 14   | 32 | 5       | 3      |  3        | 3\n",
    "# PSA 112| 0    | 8  | 0       | 2      |  2        | 0\n",
    "# PSA 056| 0    | 3  | 0       | 3      |  2 (not)  | 0   \n",
    "# PSA 028| 3    | 3  | 1       | 0      |  0        | 0   \n",
    "# PSA 075| 4    | 1  | 0       | 0      |  0        | 0 \n",
    "# PSA 141| 4    | 1  | 0       | 0      |  0        | 0 \n",
    "# ISA 12 | 0    | 2  | 0       | 1      |  1 (not)  | 0 \n",
    "# PRO 04 | 11   | 3  | 0       | 0      |  0        | 0 \n",
    "# 2CH 08 | 0    | 0  | 0       | 0      |  0        | 0 \n",
    "# 1KI 18 | 2    | 4  | 0       | 0      |  0        | 0 \n",
    "# EXO 31 | 0    | 4  | 0       | 0      |  0        | 0 \n",
    "# WIS 15 | 0    | 4  | 0       | 0      |  0        | 0 \n",
    "# JOB 35 | 1    | 2  | 0       | 0      |  0        | 0 "
   ]
  },
  {
   "cell_type": "markdown",
   "metadata": {},
   "source": [
    "###### Porównaj działanie programu bez usuwania szumu i z usuwaniem szumu. "
   ]
  },
  {
   "cell_type": "code",
   "execution_count": 2,
   "metadata": {},
   "outputs": [
    {
     "data": {
      "image/png": "[encoded data removed]",
      "text/plain": [
       "<IPython.core.display.Image object>"
      ]
     },
     "execution_count": 2,
     "metadata": {},
     "output_type": "execute_result"
    }
   ],
   "source": [
    "from IPython.display import Image\n",
    "Image(\"szumy.png\")"
   ]
  },
  {
   "cell_type": "markdown",
   "metadata": {},
   "source": [
    "low-rank-approximation wykonano dla k=10000\n",
    "\n",
    "Dla funkcji ask_me() wykonującej szukanie przed normalizacją wektorów, można zauważyć, że wyniki są bardzo podobne. Jednak w wersji bez szumów 'wyżej' pojawiają się rozdziały zawierające całą sentencję.\n",
    "\n",
    "Dla funkcji ask_me_better() wykonującej szukanie po normalizacji, w wersji z szumami 4 początkowe dokumenty wydają się być znalezione odpowiednio, natomiast następne dwa mają mniej szukanych słów, niż inne w zbiorze dokumentów.\n",
    "W wersji odszumionej pojawiają się dokumenty zawirające dużą ilość szukanych słów, ale również takie, w których tych słów jest niewiele. Być może jest to spowodowane nieodpowiednią wartością k w low-rank-approximation."
   ]
  },
  {
   "cell_type": "markdown",
   "metadata": {},
   "source": [
    "###### Dla jakiej wartosci k wyniki wyszukiwania sa najlepsze (subiektywnie)."
   ]
  },
  {
   "cell_type": "code",
   "execution_count": 3,
   "metadata": {},
   "outputs": [
    {
     "data": {
      "image/png": "[encoded data removed]",
      "text/plain": [
       "<IPython.core.display.Image object>"
      ]
     },
     "execution_count": 3,
     "metadata": {},
     "output_type": "execute_result"
    }
   ],
   "source": [
    "Image(\"svd-k.png\")"
   ]
  },
  {
   "cell_type": "markdown",
   "metadata": {},
   "source": [
    "Przyglądając się zestawieniu plików wynikowych dla różnych wartości k, można zauważyć, że im większa jest wartość k (im bliższa liczbie dokumentów) tym bardziej dokładne są dane.\n",
    "Dla k=20 oraz k=100 pojawiają się w większości dokumenty zawierające niewielką ilość poszukiwanych słów. Dla większych wartości k stopniowo pojawia się więcej dokumentów, w których możemy znaleźć większą ilość poszukiwanych przez nas słów. Dokumenty dla k=700 są w dużej mierze podobne do tych dla k=1200, a dokumenty dla k=1000 i k=1200 są prawie takie same, jedynie w różnej kolejności.\n",
    "\n",
    "Wydaje mi się, że najlepsze wyniki dla szukanje frazy uzyskałam dla k=1000. Można zatem powiedzieć, że im większa wartość k, tym wyniki są lepsze. "
   ]
  },
  {
   "cell_type": "markdown",
   "metadata": {},
   "source": [
    "######  Zbadaj wpływ przekształcenia IDF na wyniki wyszukiwania.\n"
   ]
  },
  {
   "cell_type": "code",
   "execution_count": 5,
   "metadata": {},
   "outputs": [
    {
     "data": {
      "image/png": "[encoded data removed]",
      "text/plain": [
       "<IPython.core.display.Image object>"
      ]
     },
     "execution_count": 5,
     "metadata": {},
     "output_type": "execute_result"
    }
   ],
   "source": [
    "Image(\"idf.png\")"
   ]
  },
  {
   "cell_type": "markdown",
   "metadata": {},
   "source": [
    "Dla funkcji ask_me(), która nie normalizuje wektora, wyniki po wykonaniu idf() są lepsze - dokumenty zawierają więcej wystąpień danych słów - niż dla tej samej funkcji, przed wykonaniem idf(). Jednak nie ma dużej różnicy między wypisanymi dokumentami.\n",
    "\n",
    "Dla funkcji ask_me_better(), która normalizuje wektor, wyniki po wykonaniu idf(), są zdecydowanie lepsze niż przed nim. Jednak pojawiają się również nazwy dokumentów, w których nie występuje duża ilość szukanych słów.\n",
    "\n",
    "Na podstawie tego przykładu można stwierdzić, że przekształcenie IDF pozwala uzyskać lepsze i dokładniejsze wyniki wyszukiwania. "
   ]
  }
 ],
 "metadata": {
  "kernelspec": {
   "display_name": "Python 3",
   "language": "python",
   "name": "python3"
  },
  "language_info": {
   "codemirror_mode": {
    "name": "ipython",
    "version": 3
   },
   "file_extension": ".py",
   "mimetype": "text/x-python",
   "name": "python",
   "nbconvert_exporter": "python",
   "pygments_lexer": "ipython3",
   "version": "3.7.6"
  }
 },
 "nbformat": 4,
 "nbformat_minor": 4
}
