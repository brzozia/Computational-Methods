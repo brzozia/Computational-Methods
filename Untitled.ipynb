{
 "cells": [
  {
   "cell_type": "markdown",
   "metadata": {},
   "source": [
    "# Laboratorium 6\n",
    "## Rozwiazywanie układów równan liniowych\n",
    "Natalia Brzozowska"
   ]
  },
  {
   "cell_type": "markdown",
   "metadata": {},
   "source": [
    "***\n",
    "### Zadanie 1 Metoda Gaussa-Jordana\n",
    "Napisz i sprawdz funkcje rozwiazujaca układ równan liniowych n × n metoda Gaussa-\n",
    "Jordana. Dla rozmiarów macierzy współczynników wiekszych niz 500 × 500 porównaj\n",
    "czasy działania zaimplementowanej funkcji z czasami uzyskanymi dla wybranych funkcji\n",
    "bibliotecznych."
   ]
  },
  {
   "cell_type": "markdown",
   "metadata": {},
   "source": [
    "***\n",
    "ops dzialaia kodu\n",
    "***"
   ]
  },
  {
   "cell_type": "code",
   "execution_count": 499,
   "metadata": {},
   "outputs": [],
   "source": [
    "import numpy as np\n",
    "import time\n",
    "import scipy.linalg"
   ]
  },
  {
   "cell_type": "code",
   "execution_count": 500,
   "metadata": {},
   "outputs": [],
   "source": [
    "def Gauss_Jordan_method(matrix, results):\n",
    "    n = len(matrix)\n",
    "    l=[0]*n\n",
    "    s=[0]*n\n",
    "    for i in range(n):\n",
    "        l[i]=i\n",
    "        mel=0\n",
    "        for j in range(n):\n",
    "            mel = max(mel,abs(matrix[i][j]))\n",
    "        s[i]=mel\n",
    "    for k in range(n):\n",
    "        mrow = 0\n",
    "        for i in range(k,n):\n",
    "            r = abs(matrix[l[i]][k]/s[l[i]])\n",
    "            if r>mrow :\n",
    "                mrow=r\n",
    "                j=i\n",
    "        t=l[k]\n",
    "        l[k]=l[j]\n",
    "        l[j]=t\n",
    "        for i in range(k+1,n):\n",
    "            di = matrix[l[i]][k]/matrix[l[k]][k]\n",
    "            matrix[l[i]][k] = di\n",
    "            for j in range(k+1,n):\n",
    "                matrix[l[i]][j] = matrix[l[i]][j] - di*matrix[l[k]][j]\n",
    "    \n",
    "    for k in range(n):\n",
    "        for i in range(k+1,n):\n",
    "            results[l[i]]=results[l[i]] - matrix[l[i]][k]*results[l[k]]\n",
    "    xs=[0]*n\n",
    "    for i in range(n-1,-1,-1):\n",
    "        xs[i] = results[l[i]]/matrix[l[i]][i]\n",
    "        suma=results[l[i]]\n",
    "        for j in range(i+1,n):\n",
    "            suma=suma-matrix[l[i]][j]*xs[j]\n",
    "        xs[i]=suma/matrix[l[i]][i]\n",
    "    return xs"
   ]
  },
  {
   "cell_type": "code",
   "execution_count": 501,
   "metadata": {},
   "outputs": [],
   "source": [
    "A = [[1, 2, 3], \n",
    "    [4, 3, -1],\n",
    "    [1, -1, 1]]\n",
    "B = [14,7,2]"
   ]
  },
  {
   "cell_type": "code",
   "execution_count": 502,
   "metadata": {},
   "outputs": [
    {
     "name": "stdout",
     "output_type": "stream",
     "text": [
      "[1. 2. 3.]\n"
     ]
    }
   ],
   "source": [
    "print(np.linalg.solve(A,B))"
   ]
  },
  {
   "cell_type": "code",
   "execution_count": 503,
   "metadata": {},
   "outputs": [
    {
     "data": {
      "text/plain": [
       "[1.0, 2.0, 3.0]"
      ]
     },
     "execution_count": 503,
     "metadata": {},
     "output_type": "execute_result"
    }
   ],
   "source": [
    "Gauss_Jordan_method(A,B)"
   ]
  },
  {
   "cell_type": "markdown",
   "metadata": {},
   "source": [
    "wnioski ze dziala i te same wyniki\n",
    "***"
   ]
  },
  {
   "cell_type": "code",
   "execution_count": 504,
   "metadata": {},
   "outputs": [],
   "source": [
    "def compare_time(A,B):\n",
    "    start=time.time()\n",
    "    np.linalg.solve(A,B)\n",
    "    end=time.time()\n",
    "    t_linalg = end-start\n",
    "    \n",
    "    start=time.time()\n",
    "    np.linalg.lstsq(A,B,rcond=None)\n",
    "    end=time.time()\n",
    "    t_lstlq = end-start\n",
    "    \n",
    "    start=time.time()\n",
    "    Gauss_Jordan_method(A,B)\n",
    "    end=time.time()\n",
    "    t_gauss = end-start\n",
    "    \n",
    "    print(\"czas trwania Gauss_Jordan_method(A,B):\",t_gauss)\n",
    "    print(\"czas trwania np.linalg.lstsq(A,B):\",t_linalg)\n",
    "    print(\"czas trwania np.linalg.solve(A,B):\",t_lstlq)"
   ]
  },
  {
   "cell_type": "code",
   "execution_count": 505,
   "metadata": {},
   "outputs": [
    {
     "name": "stdout",
     "output_type": "stream",
     "text": [
      "czas trwania Gauss_Jordan_method(A,B): 84.54979610443115\n",
      "czas trwania np.linalg.lstsq(A,B): 0.012965679168701172\n",
      "czas trwania np.linalg.solve(A,B): 0.1297147274017334\n"
     ]
    }
   ],
   "source": [
    "huge_random_matrix = np.random.rand(600, 600)\n",
    "res = np.random.rand(600)\n",
    "compare_time(huge_random_matrix,res)"
   ]
  },
  {
   "cell_type": "markdown",
   "metadata": {},
   "source": [
    "***\n",
    "wnioski\n",
    "***"
   ]
  },
  {
   "cell_type": "markdown",
   "metadata": {},
   "source": [
    "### Zadanie 2 Faktoryzacja LU\n",
    "Napisz i sprawdź funkcje dokonujacą faktoryzacji A = LU macierzy A. Zastosuj częściowe\n",
    "poszukiwanie elementu wiodacego oraz skalowanie."
   ]
  },
  {
   "cell_type": "code",
   "execution_count": 701,
   "metadata": {},
   "outputs": [],
   "source": [
    "def Doolittle_Crout_method(A):\n",
    "    n=len(A)\n",
    "    l=np.zeros((n,n))\n",
    "    u=np.zeros((n,n))\n",
    "    p=np.identity(n)\n",
    "                \n",
    "\n",
    "    for y in range(0,n):\n",
    "        maxi=abs(A[y][y])\n",
    "        row=y\n",
    "        \n",
    "        for i in range(y+1,n):\n",
    "            if (abs(A[i][y])> maxi) :\n",
    "                maxi=abs(A[i][y])\n",
    "                row=i\n",
    "        if y!=row:\n",
    "            p[[y,row]]= p[[row,y]]\n",
    "        \n",
    "        \n",
    "    PA=p@A  \n",
    "    print(p)\n",
    "    \n",
    "    for k in range(n):\n",
    "        l[k][k]=1\n",
    "        for j in range(k,n):\n",
    "            suma=0\n",
    "            for s in range(k):\n",
    "                suma +=l[k][s]*u[s][j]\n",
    "                \n",
    "            u[k][j]=PA[k][j]-suma\n",
    "            \n",
    "        for i in range(k,n):\n",
    "            suma=0\n",
    "            for s in range(k):\n",
    "                suma +=l[i][s]*u[s][k]\n",
    "                \n",
    "            l[i][k]=(PA[i][k]-suma)/u[k][k]\n",
    "            \n",
    "    return (p.T,l, u)"
   ]
  },
  {
   "cell_type": "code",
   "execution_count": 702,
   "metadata": {},
   "outputs": [
    {
     "data": {
      "text/plain": [
       "array([[2, 6, 3, 7, 7],\n",
       "       [2, 6, 9, 9, 3],\n",
       "       [5, 7, 6, 9, 5],\n",
       "       [3, 4, 9, 9, 9],\n",
       "       [2, 9, 7, 2, 2]])"
      ]
     },
     "execution_count": 702,
     "metadata": {},
     "output_type": "execute_result"
    }
   ],
   "source": [
    "random_matrix  = np.random.randint(10, size=(5, 5))\n",
    "# = np.array([[7, 2, 1, 3, 0],\n",
    "#        [9, 1, 8, 2, 7],\n",
    "#        [1, 6, 7, 7, 4],\n",
    "#        [1, 0, 9, 3, 8],\n",
    "#        [3, 7, 7, 8, 8]])\n",
    "# \n",
    "random_matrix"
   ]
  },
  {
   "cell_type": "code",
   "execution_count": 703,
   "metadata": {},
   "outputs": [
    {
     "name": "stdout",
     "output_type": "stream",
     "text": [
      "P\n",
      " [[0. 0. 0. 1. 0.]\n",
      " [0. 0. 0. 0. 1.]\n",
      " [1. 0. 0. 0. 0.]\n",
      " [0. 0. 1. 0. 0.]\n",
      " [0. 1. 0. 0. 0.]]\n",
      "U\n",
      " [[ 5.00000000e+00  7.00000000e+00  6.00000000e+00  9.00000000e+00\n",
      "   5.00000000e+00]\n",
      " [ 0.00000000e+00  6.20000000e+00  4.60000000e+00 -1.60000000e+00\n",
      "  -1.11022302e-16]\n",
      " [ 0.00000000e+00  0.00000000e+00  5.54838710e+00  3.54838710e+00\n",
      "   6.00000000e+00]\n",
      " [ 0.00000000e+00  0.00000000e+00  0.00000000e+00  5.36046512e+00\n",
      "   6.91860465e+00]\n",
      " [ 0.00000000e+00  0.00000000e+00  0.00000000e+00  0.00000000e+00\n",
      "  -8.11713666e+00]]\n",
      "L\n",
      " [[ 1.          0.          0.          0.          0.        ]\n",
      " [ 0.4         1.          0.          0.          0.        ]\n",
      " [ 0.6        -0.03225806  1.          0.          0.        ]\n",
      " [ 0.4         0.51612903 -0.31976744  1.          0.        ]\n",
      " [ 0.4         0.51612903  0.76162791  0.65726681  1.        ]]\n"
     ]
    }
   ],
   "source": [
    "P, L, U = scipy.linalg.lu(random_matrix)\n",
    "print(\"P\\n\",P)\n",
    "print(\"U\\n\",U)\n",
    "print(\"L\\n\",L)"
   ]
  },
  {
   "cell_type": "code",
   "execution_count": 704,
   "metadata": {},
   "outputs": [
    {
     "name": "stdout",
     "output_type": "stream",
     "text": [
      "[[0. 0. 1. 0. 0.]\n",
      " [0. 0. 0. 0. 1.]\n",
      " [0. 0. 0. 1. 0.]\n",
      " [1. 0. 0. 0. 0.]\n",
      " [0. 1. 0. 0. 0.]]\n",
      "Pa\n",
      " [[0. 0. 0. 1. 0.]\n",
      " [0. 0. 0. 0. 1.]\n",
      " [1. 0. 0. 0. 0.]\n",
      " [0. 0. 1. 0. 0.]\n",
      " [0. 1. 0. 0. 0.]]\n",
      "Ua\n",
      " [[ 5.          7.          6.          9.          5.        ]\n",
      " [ 0.          6.2         4.6        -1.6         0.        ]\n",
      " [ 0.          0.          5.5483871   3.5483871   6.        ]\n",
      " [ 0.          0.          0.          5.36046512  6.91860465]\n",
      " [ 0.          0.          0.          0.         -8.11713666]]\n",
      "La\n",
      " [[ 1.          0.          0.          0.          0.        ]\n",
      " [ 0.4         1.          0.          0.          0.        ]\n",
      " [ 0.6        -0.03225806  1.          0.          0.        ]\n",
      " [ 0.4         0.51612903 -0.31976744  1.          0.        ]\n",
      " [ 0.4         0.51612903  0.76162791  0.65726681  1.        ]]\n"
     ]
    }
   ],
   "source": [
    "Pa,La,Ua = Doolittle_Crout_method(random_matrix)\n",
    "print(\"Pa\\n\",Pa)\n",
    "print(\"Ua\\n\",Ua)\n",
    "print(\"La\\n\",La)"
   ]
  },
  {
   "cell_type": "code",
   "execution_count": 705,
   "metadata": {},
   "outputs": [
    {
     "name": "stdout",
     "output_type": "stream",
     "text": [
      "True\n",
      "False\n",
      "False\n"
     ]
    }
   ],
   "source": [
    "print(np.array_equal(P,Pa))\n",
    "print((L==La).all())\n",
    "print(np.array_equal(U,Ua))"
   ]
  },
  {
   "cell_type": "code",
   "execution_count": null,
   "metadata": {},
   "outputs": [],
   "source": []
  },
  {
   "cell_type": "code",
   "execution_count": null,
   "metadata": {},
   "outputs": [],
   "source": []
  },
  {
   "cell_type": "code",
   "execution_count": null,
   "metadata": {},
   "outputs": [],
   "source": []
  }
 ],
 "metadata": {
  "kernelspec": {
   "display_name": "Python 3",
   "language": "python",
   "name": "python3"
  },
  "language_info": {
   "codemirror_mode": {
    "name": "ipython",
    "version": 3
   },
   "file_extension": ".py",
   "mimetype": "text/x-python",
   "name": "python",
   "nbconvert_exporter": "python",
   "pygments_lexer": "ipython3",
   "version": "3.7.6"
  }
 },
 "nbformat": 4,
 "nbformat_minor": 4
}
