{
 "cells": [
  {
   "cell_type": "markdown",
   "metadata": {},
   "source": [
    "Natalia Brzozowska\n",
    "# Laboratorium 5\n",
    "## Równania nieliniowe\n"
   ]
  },
  {
   "cell_type": "markdown",
   "metadata": {},
   "source": [
    "***\n",
    "### Funkcje do testów"
   ]
  },
  {
   "cell_type": "code",
   "execution_count": 730,
   "metadata": {},
   "outputs": [],
   "source": [
    "import numpy as np\n",
    "import mpmath as mp"
   ]
  },
  {
   "cell_type": "code",
   "execution_count": 731,
   "metadata": {},
   "outputs": [],
   "source": [
    "def f1(x):\n",
    "    return mpf(mp.cos(x)*mp.cosh(x) - 1)\n",
    "\n",
    "def f2(x):\n",
    "    try:\n",
    "        return mpf(1/x - mp.tan(x))\n",
    "    except:\n",
    "        return mpf(\"inf\")\n",
    "\n",
    "def f3(x):\n",
    "    return mpf(2**(-x) + mp.e**x + 2*mp.cos(x) - 6)\n",
    "\n",
    "\n",
    "x1_min=mpf((3/2)*mp.pi)\n",
    "x1_max=mpf(2*mp.pi)\n",
    "    \n",
    "x2_min=0\n",
    "x2_max=mpf(mp.pi/2)\n",
    "\n",
    "x3_min=1\n",
    "x3_max=3    "
   ]
  },
  {
   "cell_type": "markdown",
   "metadata": {},
   "source": [
    "***\n",
    "### Metoda bisekcji"
   ]
  },
  {
   "cell_type": "markdown",
   "metadata": {},
   "source": [
    "**1. Napisz funkcję realizującą metodę bisekcji dla danej funkcji f w oparciu o arytmetykę o\n",
    "zmiennej precyzji (mpmath.mpf). Funkcja przyjmuje następujące argumenty:\n",
    "minimalną precyzję obliczeń (liczba cyfr znaczących),\n",
    "krańce przedziału,\n",
    "błąd bezwzględny obliczeń.<br>\n",
    "Funkcja ma zwracać wyznaczone miejsce zerowe, wyliczoną wartość w miejscu zerowym\n",
    "oraz liczbę iteracji potrzebną do uzyskania określonej dokładności.**"
   ]
  },
  {
   "cell_type": "code",
   "execution_count": 732,
   "metadata": {},
   "outputs": [],
   "source": [
    "def predicted_no_of_iterations(x_min, x_max, epsilon):\n",
    "    print(\"przewidywana liczba iteracji:\",np.ceil(mp.log((x_max-x_min)/epsilon)/(mp.log(2))))\n",
    "\n",
    "\n",
    "def bisection(prec, x_min, x_max, epsilon,func):\n",
    "    mp.mp.dps=prec\n",
    "    loop=0\n",
    "    x1=mpf(x_min)\n",
    "    x2=mpf(x_max)\n",
    "    x=mpf((x1+x2)/2)\n",
    "    \n",
    "    while abs(x1-x2)>epsilon :\n",
    "        x=mpf((x1+x2)/2)\n",
    "        fx=func(x)\n",
    "        if fx==0:\n",
    "            print(\"funkcja zwraca: miejsce zerowe, wartość w miejscu zerowym, liczbę iteracji\")\n",
    "            return x,fx,loop\n",
    "        if fx*func(x1) < 0:\n",
    "            x2=x\n",
    "        else:\n",
    "            x1=x\n",
    "        loop+=1\n",
    "        \n",
    "    print(\"funkcja zwraca: miejsce zerowe, wartość w miejscu zerowym, liczbę iteracji\")\n",
    "    return x,fx,loop\n",
    "    "
   ]
  },
  {
   "cell_type": "markdown",
   "metadata": {},
   "source": [
    "**Przetestuj działanie metody dla funkcji podanych na początku instrukcji.**"
   ]
  },
  {
   "cell_type": "code",
   "execution_count": 733,
   "metadata": {},
   "outputs": [
    {
     "name": "stdout",
     "output_type": "stream",
     "text": [
      "przewidywana liczba iteracji: 24\n",
      "funkcja zwraca: miejsce zerowe, wartość w miejscu zerowym, liczbę iteracji\n"
     ]
    },
    {
     "data": {
      "text/plain": [
       "(mpf('4.730040713795'), mpf('-1.79088965524e-6'), 24)"
      ]
     },
     "execution_count": 733,
     "metadata": {},
     "output_type": "execute_result"
    }
   ],
   "source": [
    "predicted_no_of_iterations(x1_min,x1_max,0.0000001)\n",
    "bisection(10,x1_min,x1_max,0.0000001,f1)"
   ]
  },
  {
   "cell_type": "code",
   "execution_count": 734,
   "metadata": {},
   "outputs": [
    {
     "name": "stdout",
     "output_type": "stream",
     "text": [
      "przewidywana liczba iteracji: 64\n",
      "funkcja zwraca: miejsce zerowe, wartość w miejscu zerowym, liczbę iteracji\n"
     ]
    },
    {
     "data": {
      "text/plain": [
       "(mpf('0.86033358901937976241959'), mpf('2.3716922523120409493913e-19'), 64)"
      ]
     },
     "execution_count": 734,
     "metadata": {},
     "output_type": "execute_result"
    }
   ],
   "source": [
    "predicted_no_of_iterations(x2_min,x2_max,10**-19)\n",
    "bisection(20,x2_min,x2_max,10**-19,f2)"
   ]
  },
  {
   "cell_type": "code",
   "execution_count": 735,
   "metadata": {},
   "outputs": [
    {
     "name": "stdout",
     "output_type": "stream",
     "text": [
      "przewidywana liczba iteracji: 61\n",
      "funkcja zwraca: miejsce zerowe, wartość w miejscu zerowym, liczbę iteracji\n"
     ]
    },
    {
     "data": {
      "text/plain": [
       "(mpf('1.829383601933848816669'), mpf('-1.734723475976807094412e-18'), 61)"
      ]
     },
     "execution_count": 735,
     "metadata": {},
     "output_type": "execute_result"
    }
   ],
   "source": [
    "predicted_no_of_iterations(x3_min,x3_max,0.000000000000000001)\n",
    "bisection(19,x3_min,x3_max,0.000000000000000001,f3)"
   ]
  },
  {
   "cell_type": "markdown",
   "metadata": {},
   "source": [
    "***\n",
    "Dla podanych funkcji i przedziałów funkcja wylicza jedno miejsce zerowe uwzględniając podany błąd bezwzględny (w zakresie błędu bezwzględnego, wyniki są zgodne z tymi wyliczonymi przez https://www.wolframalpha.com/). \n",
    "\n",
    "Wartość podanych funkcji w wyliczonym punkcie nie jest dokładnie równa zeru, ale w przybliżeniu jest mu bardzo bliska. Liczba przewidywanych iteracji wyliczona ze wzoru podanego w instrukcji jest równa iteracjom wykonanym przez funkcję.\n",
    "***"
   ]
  },
  {
   "cell_type": "markdown",
   "metadata": {},
   "source": [
    "**Jaka liczba iteracji jest potrzebna do uzyskania bezwzględnej dokładności rzędu: $10^{−7}\n",
    ", 10^{−15}, 10^{−33}$?**"
   ]
  },
  {
   "cell_type": "markdown",
   "metadata": {},
   "source": [
    "Poniżej znajdują się przewidywana ilość iteracji potrzebna do uzyskania odpowiedniej dokładności dla podanych przedziałów."
   ]
  },
  {
   "cell_type": "code",
   "execution_count": 736,
   "metadata": {},
   "outputs": [
    {
     "name": "stdout",
     "output_type": "stream",
     "text": [
      "przewidywana liczba iteracji: 24\n",
      "przewidywana liczba iteracji: 24\n",
      "przewidywana liczba iteracji: 25\n",
      "funkcja zwraca: miejsce zerowe, wartość w miejscu zerowym, liczbę iteracji\n"
     ]
    },
    {
     "data": {
      "text/plain": [
       "(mpf('4.730040713795'), mpf('-1.79088965524e-6'), 24)"
      ]
     },
     "execution_count": 736,
     "metadata": {},
     "output_type": "execute_result"
    }
   ],
   "source": [
    "predicted_no_of_iterations(x1_min,x1_max,10**(-7))\n",
    "predicted_no_of_iterations(x2_min,x2_max,10**(-7))\n",
    "predicted_no_of_iterations(x3_min,x3_max,10**(-7))\n",
    "bisection(10,x1_min,x1_max,10**(-7),f1)"
   ]
  },
  {
   "cell_type": "code",
   "execution_count": 737,
   "metadata": {},
   "outputs": [
    {
     "name": "stdout",
     "output_type": "stream",
     "text": [
      "przewidywana liczba iteracji: 51\n",
      "przewidywana liczba iteracji: 51\n",
      "przewidywana liczba iteracji: 51\n",
      "funkcja zwraca: miejsce zerowe, wartość w miejscu zerowym, liczbę iteracji\n"
     ]
    },
    {
     "data": {
      "text/plain": [
       "(mpf('4.730040744862704205'), mpf('1.029731855339832691e-14'), 51)"
      ]
     },
     "execution_count": 737,
     "metadata": {},
     "output_type": "execute_result"
    }
   ],
   "source": [
    "predicted_no_of_iterations(x1_min,x1_max,10**(-15))\n",
    "predicted_no_of_iterations(x2_min,x2_max,10**(-15))\n",
    "predicted_no_of_iterations(x3_min,x3_max,10**(-15))\n",
    "bisection(16,x1_min,x1_max,10**(-15),f1)"
   ]
  },
  {
   "cell_type": "code",
   "execution_count": 738,
   "metadata": {},
   "outputs": [
    {
     "name": "stdout",
     "output_type": "stream",
     "text": [
      "przewidywana liczba iteracji: 111\n",
      "przewidywana liczba iteracji: 111\n",
      "przewidywana liczba iteracji: 111\n",
      "funkcja zwraca: miejsce zerowe, wartość w miejscu zerowym, liczbę iteracji\n"
     ]
    },
    {
     "data": {
      "text/plain": [
       "(mpf('4.730040744862704026024048100833884745'),\n",
       " mpf('-4.321305312718860445294350508674930671e-33'),\n",
       " 111)"
      ]
     },
     "execution_count": 738,
     "metadata": {},
     "output_type": "execute_result"
    }
   ],
   "source": [
    "predicted_no_of_iterations(x1_min,x1_max,10**(-33))\n",
    "predicted_no_of_iterations(x2_min,x2_max,10**(-33))\n",
    "predicted_no_of_iterations(x3_min,x3_max,10**(-33))\n",
    "bisection(34,x1_min,x1_max,10**(-33),f1)"
   ]
  },
  {
   "cell_type": "markdown",
   "metadata": {},
   "source": [
    "***\n",
    "Przewidywana liczba iteracji jest równa dla bezwzględnej dokładności rzędu $10^{−15}, 10^{−33}$, niezależnie od badanych przedziałów.\n",
    "Jedynie dla $10^{-7}$ dla trzeciego przedziału liczba iteracji jest o jedną iterację większa.\n",
    "***"
   ]
  },
  {
   "cell_type": "markdown",
   "metadata": {},
   "source": [
    "**W jaki sposób\n",
    "możemy obliczyć k pierwszych dodatnich pierwiastków funkcji f1(x)?**"
   ]
  },
  {
   "cell_type": "code",
   "execution_count": 739,
   "metadata": {},
   "outputs": [],
   "source": [
    "def find_k_positive_roots(k,eps,func):\n",
    "    x2=mpf(mp.pi/2)\n",
    "    x1=0.0001\n",
    "    ends=[]\n",
    "    for i in range(k):\n",
    "        while func(x2)*func(x1)>0:\n",
    "            x2+=mpf(mp.pi/2)\n",
    "        ends.append(x2+eps)\n",
    "        x1=mpf(x2+eps)\n",
    "        x2+=mpf(mp.pi/2)\n",
    "        \n",
    "    print(bisection(20,0,ends[0],eps,func))\n",
    "    for i in range(1,k):\n",
    "        print(bisection(20,ends[i-1]+eps,ends[i],eps,func))\n",
    "        k-=1"
   ]
  },
  {
   "cell_type": "code",
   "execution_count": 740,
   "metadata": {},
   "outputs": [
    {
     "name": "stdout",
     "output_type": "stream",
     "text": [
      "funkcja zwraca: miejsce zerowe, wartość w miejscu zerowym, liczbę iteracji\n",
      "(mpf('4.7300407448627034217128'), mpf('-3.4835838471399937360529e-14'), 53)\n",
      "funkcja zwraca: miejsce zerowe, wartość w miejscu zerowym, liczbę iteracji\n",
      "(mpf('7.8532046240958380978886'), mpf('-6.962469304165521538641e-13'), 51)\n",
      "funkcja zwraca: miejsce zerowe, wartość w miejscu zerowym, liczbę iteracji\n",
      "(mpf('10.995607838001671389353'), mpf('1.4387302689543388783955e-11'), 53)\n",
      "funkcja zwraca: miejsce zerowe, wartość w miejscu zerowym, liczbę iteracji\n",
      "(mpf('14.137165491257463529538'), mpf('4.4662976152378818395922e-10'), 51)\n",
      "funkcja zwraca: miejsce zerowe, wartość w miejscu zerowym, liczbę iteracji\n",
      "(mpf('17.278759657399481640958'), mpf('3.2378111871208755962598e-9'), 53)\n",
      "funkcja zwraca: miejsce zerowe, wartość w miejscu zerowym, liczbę iteracji\n",
      "(mpf('20.420352245626061706344'), mpf('-2.2728924967592275738475e-7'), 51)\n",
      "funkcja zwraca: miejsce zerowe, wartość w miejscu zerowym, liczbę iteracji\n",
      "(mpf('23.561944902040455530402'), mpf('0.0000038887777351159877759629'), 53)\n",
      "funkcja zwraca: miejsce zerowe, wartość w miejscu zerowym, liczbę iteracji\n",
      "(mpf('26.703537555508186815217'), mpf('-0.00011209768845200421142819'), 51)\n",
      "funkcja zwraca: miejsce zerowe, wartość w miejscu zerowym, liczbę iteracji\n",
      "(mpf('29.845130209103254567248'), mpf('0.0013741178070704696455252'), 53)\n",
      "funkcja zwraca: miejsce zerowe, wartość w miejscu zerowym, liczbę iteracji\n",
      "(mpf('32.986722862692819540275'), mpf('0.002252826413846406716028'), 51)\n",
      "funkcja zwraca: miejsce zerowe, wartość w miejscu zerowym, liczbę iteracji\n",
      "(mpf('36.128315516282622355058'), mpf('-0.72370887716584318596377'), 53)\n",
      "funkcja zwraca: miejsce zerowe, wartość w miejscu zerowym, liczbę iteracji\n",
      "(mpf('39.269908169872415783252'), mpf('-18.153598178683799731415'), 51)\n"
     ]
    }
   ],
   "source": [
    "find_k_positive_roots(12,10**(-15),f1)"
   ]
  },
  {
   "cell_type": "markdown",
   "metadata": {},
   "source": [
    "***\n",
    "Można to zrobić używając powyższej funkcji, która najpierw znajduje przedziały, dla których początek i koniec tych przedziałów są różnych znaków.\n",
    "Następnie dla każdego takiego przedziału jest wyliczany pierwiastek.\n",
    "\n",
    "W zależności od podanej dokładności, dla większych k dokładność znalezionego miejsca zerowego maleje. Jednak przy odpowiedniej wartości epsilonu (blędu bezwzględnego), wartości w znalezionych miejscach zerowych są bliższe zeru.\n",
    "\n",
    "***"
   ]
  },
  {
   "cell_type": "markdown",
   "metadata": {},
   "source": [
    "***\n",
    "### Metoda Newtona"
   ]
  },
  {
   "cell_type": "markdown",
   "metadata": {},
   "source": [
    "**2. Napisz funkcję realizującą metodę Newtona w oparciu o arytmetykę o zmiennej precyzji\n",
    "(mpmath.mpf). Funkcja ma wykorzystywać dwa kryteria stopu: maksymalną liczbę iteracji, moduł różnicy kolejnych przybliżeń mniejszy od danej wartości ε.\n",
    "Oprócz przybliżonej wartości pierwiastka funkcja ma zwrócić liczbę iteracji potrzebną\n",
    "do uzyskania określonej dokładności ε.**"
   ]
  },
  {
   "cell_type": "code",
   "execution_count": 741,
   "metadata": {},
   "outputs": [],
   "source": [
    "def Newton_method(prec,max_iter, x_min, epsilon, func):\n",
    "    loop=0;\n",
    "    mp.mp.dps=prec\n",
    "    derivative=lambda x:mpf(mp.diff(func,x))\n",
    "    x0=x_min\n",
    "    x1=mpf(x0 - (func(x0)/derivative(x0)))\n",
    "    while abs(x0-x1)>epsilon and loop<max_iter:\n",
    "        x0=x1\n",
    "        x1=mpf(x0 - (func(x0)/derivative(x0)))\n",
    "        loop+=1\n",
    "    print(\"funkcja zwraca: miejsce zerowe, wartość w miejscu zerowym, liczbę iteracji\")\n",
    "    return x1, func(x1),loop"
   ]
  },
  {
   "cell_type": "markdown",
   "metadata": {},
   "source": [
    "**Przetestuj działanie metody dla funkcji podanych\n",
    "na początku instrukcji (dodatkowo dostępne pochodne tych funkcji).**"
   ]
  },
  {
   "cell_type": "code",
   "execution_count": 742,
   "metadata": {},
   "outputs": [
    {
     "name": "stdout",
     "output_type": "stream",
     "text": [
      "funkcja zwraca: miejsce zerowe, wartość w miejscu zerowym, liczbę iteracji\n"
     ]
    },
    {
     "data": {
      "text/plain": [
       "(mpf('4.730040744878'), mpf('9.022187441587e-10'), 2)"
      ]
     },
     "execution_count": 742,
     "metadata": {},
     "output_type": "execute_result"
    }
   ],
   "source": [
    "Newton_method(10,10,x1_min,0.0000001,f1)"
   ]
  },
  {
   "cell_type": "code",
   "execution_count": 743,
   "metadata": {},
   "outputs": [
    {
     "name": "stdout",
     "output_type": "stream",
     "text": [
      "funkcja zwraca: miejsce zerowe, wartość w miejscu zerowym, liczbę iteracji\n"
     ]
    },
    {
     "data": {
      "text/plain": [
       "(mpf('nan'), mpf('nan'), 1)"
      ]
     },
     "execution_count": 743,
     "metadata": {},
     "output_type": "execute_result"
    }
   ],
   "source": [
    "Newton_method(20,100,x2_min,10**-19,f2)"
   ]
  },
  {
   "cell_type": "code",
   "execution_count": 744,
   "metadata": {},
   "outputs": [
    {
     "name": "stdout",
     "output_type": "stream",
     "text": [
      "funkcja zwraca: miejsce zerowe, wartość w miejscu zerowym, liczbę iteracji\n"
     ]
    },
    {
     "data": {
      "text/plain": [
       "(mpf('0.86033358901937976248396'), mpf('0.0'), 14)"
      ]
     },
     "execution_count": 744,
     "metadata": {},
     "output_type": "execute_result"
    }
   ],
   "source": [
    "Newton_method(20,100,x2_min+0.001,10**-19,f2)"
   ]
  },
  {
   "cell_type": "code",
   "execution_count": 745,
   "metadata": {},
   "outputs": [
    {
     "name": "stdout",
     "output_type": "stream",
     "text": [
      "funkcja zwraca: miejsce zerowe, wartość w miejscu zerowym, liczbę iteracji\n"
     ]
    },
    {
     "data": {
      "text/plain": [
       "(mpf('1.82938360193384881713'), mpf('0.0'), 8)"
      ]
     },
     "execution_count": 745,
     "metadata": {},
     "output_type": "execute_result"
    }
   ],
   "source": [
    "Newton_method(19,10,x3_min,0.000000000000000001,f3)"
   ]
  },
  {
   "cell_type": "markdown",
   "metadata": {},
   "source": [
    "***\n",
    "Funkcja realizująca metodę Newtona zwraca wartość w miejscu zerowym z pewną dokładnością. Moja funkcja zwraca również miejsce zerowe (oprócz wartości w tym miejscu i liczby iteracji) oraz jej pierwszym argumentem jest liczba cyfr znaczących, w celu łatwiejszego porówanania w nastęnym punkcie.<br>\n",
    "W przypadku drugiej funkcji, gdy rozpoczniemy obliczanie od x_min=0, funkcja nie daje rezultatów. Jest to spowodowane tym, że w pochodnej tej funkcji wystąpi dzielenie przez 0.<br>\n",
    "Dlatego wartość, od której powinno się zacząć obliczanie dla drugiej funkcji, została zwiększona w celu otrzymania poprawnego wyniku, który później będę porównywać\n",
    "***"
   ]
  },
  {
   "cell_type": "markdown",
   "metadata": {},
   "source": [
    "**Porównaj zbieżność\n",
    "metody ze zbieżnością uzyskaną dla metody bisekcji.**"
   ]
  },
  {
   "cell_type": "markdown",
   "metadata": {},
   "source": [
    "***\n",
    "Poniżej przedstawiam zebrane wyniki dla obu metod (bisekcji i Newtona) dla tej samej wartości błędu bezwzględnego. Pierwszy wynik w parze jest z metody bisekcji, drugi z metody Newtona. Elementy w wierszu to kolejno: miejsce zerowe, wartość w miejscu zerowym, liczba iteracji.\n",
    "\n",
    "\n",
    "(mpf('4.730040713795'), mpf('-1.79088965524e-6'), 24)<br>\n",
    "(mpf('4.730040744878'), mpf('9.022187441587e-10'), 2)\n",
    "\n",
    "(mpf('0.86033358901937976242128'), mpf('2.3208702754767829290472e-19'), 64)<br>\n",
    "(mpf('0.86033358901937976248396'), mpf('0.0'), 14)\n",
    "\n",
    "(mpf('1.829383601933848816669'), mpf('-1.734723475976807094412e-18'), 61)<br>\n",
    "(mpf('1.82938360193384881713'), mpf('0.0'), 8)\n",
    "\n",
    "\n",
    "Od razu można zauważyć, że dokładność metody Newtona jest dużo większa niż metody bisekcji. Wartości w wyliczonych miejscach zerowych są bliższe zeru dla metody Newtona. Również liczba iteracji dla metody Newtona jest dużo mniejsza.<br><br>\n",
    "Podsumowując metoda Newtona generuje wartości bliższe oczekiwanemu wynikowi, w dużo krótszym czasie - zbiega szybciej.\n",
    "***"
   ]
  },
  {
   "cell_type": "markdown",
   "metadata": {},
   "source": [
    "***\n",
    "### Metoda Siecznych"
   ]
  },
  {
   "cell_type": "markdown",
   "metadata": {},
   "source": [
    "**3. Napisz funkcję realizującą metodę siecznych w oparciu o arytmetykę o zmiennej precyzji\n",
    "(mpmath.mpf). Funkcja powinna stosować te same kryteria stopu co funkcja realizująca\n",
    "metodę Newtona.**\n"
   ]
  },
  {
   "cell_type": "code",
   "execution_count": 746,
   "metadata": {},
   "outputs": [],
   "source": [
    "def secant_method(prec, max_iter, x_min, x_max, epsilon, func):\n",
    "    loop=0;\n",
    "    mp.mp.dps=prec\n",
    "    x0=x_min\n",
    "    x1=x_max\n",
    "    while abs(x0-x1)>epsilon and loop<max_iter:\n",
    "        x2=x1-func(x1)*((x1-x0)/(func(x1)-func(x0)))\n",
    "        x0=x1\n",
    "        x1=x2\n",
    "        loop+=1\n",
    "    print(\"funkcja zwraca: miejsce zerowe, wartość w miejscu zerowym, liczbę iteracji\")\n",
    "    return x0, func(x0), loop"
   ]
  },
  {
   "cell_type": "markdown",
   "metadata": {},
   "source": [
    "**Przetestuj działanie metody dla funkcji podanych na początku instrukcji.**"
   ]
  },
  {
   "cell_type": "code",
   "execution_count": 747,
   "metadata": {},
   "outputs": [
    {
     "name": "stdout",
     "output_type": "stream",
     "text": [
      "funkcja zwraca: miejsce zerowe, wartość w miejscu zerowym, liczbę iteracji\n"
     ]
    },
    {
     "data": {
      "text/plain": [
       "(mpf('4.73004074482'), mpf('-2.45199771598e-9'), 6)"
      ]
     },
     "execution_count": 747,
     "metadata": {},
     "output_type": "execute_result"
    }
   ],
   "source": [
    "secant_method(10,10,x1_min,x1_max,0.0000001,f1)"
   ]
  },
  {
   "cell_type": "code",
   "execution_count": 748,
   "metadata": {},
   "outputs": [
    {
     "name": "stdout",
     "output_type": "stream",
     "text": [
      "funkcja zwraca: miejsce zerowe, wartość w miejscu zerowym, liczbę iteracji\n"
     ]
    },
    {
     "data": {
      "text/plain": [
       "(mpf('1.5707963267948966192293'), mpf('-494494728671556485645.0'), 1)"
      ]
     },
     "execution_count": 748,
     "metadata": {},
     "output_type": "execute_result"
    }
   ],
   "source": [
    "secant_method(20,100,x2_min,x2_max,10**-19,f2)"
   ]
  },
  {
   "cell_type": "code",
   "execution_count": 749,
   "metadata": {},
   "outputs": [
    {
     "name": "stdout",
     "output_type": "stream",
     "text": [
      "funkcja zwraca: miejsce zerowe, wartość w miejscu zerowym, liczbę iteracji\n"
     ]
    },
    {
     "data": {
      "text/plain": [
       "(mpf('0.86033358901937976248396'), mpf('0.0'), 23)"
      ]
     },
     "execution_count": 749,
     "metadata": {},
     "output_type": "execute_result"
    }
   ],
   "source": [
    "secant_method(20,100,x2_min+0.001,x2_max,10**-19,f2)"
   ]
  },
  {
   "cell_type": "code",
   "execution_count": 750,
   "metadata": {},
   "outputs": [
    {
     "name": "stdout",
     "output_type": "stream",
     "text": [
      "funkcja zwraca: miejsce zerowe, wartość w miejscu zerowym, liczbę iteracji\n"
     ]
    },
    {
     "data": {
      "text/plain": [
       "(mpf('1.829383601933848816262'), mpf('-3.469446951953614188824e-18'), 11)"
      ]
     },
     "execution_count": 750,
     "metadata": {},
     "output_type": "execute_result"
    }
   ],
   "source": [
    "secant_method(19,100,x3_min,x3_max,0.000000000000000001,f3)"
   ]
  },
  {
   "cell_type": "markdown",
   "metadata": {},
   "source": [
    "***\n",
    "Funkcja realizująca metodę siecznych ma analogiczne argumenty jak metoda Newtona oraz jeden dodatkowy argument - koniec przedziału.<br>\n",
    "Analogicznie jak dla metody Newtona, gdy w drugiej funkcji rozpoczniemy obliczanie od x_min=0, funkcja daje niepoprawny rezultat. Jest to spowodowane tym, że do funkcji zostanie podstawione 0, przez co wystąpi dzielenie przez 0. Moja funkcja zwróci wtedy granicę przy x->0+, czyli nieskończoność.<br>Dtalego znowu początek przedziału dla drugiej funkcji został zmieniony jak w metodzie Newtona.\n",
    "***"
   ]
  },
  {
   "cell_type": "markdown",
   "metadata": {},
   "source": [
    "**Porównaj zbieżność metody ze zbieżnością uzyskaną dla metody bisekcji oraz\n",
    "metody Newtona.**"
   ]
  },
  {
   "cell_type": "markdown",
   "metadata": {},
   "source": [
    "***\n",
    "Analogicznie jak dla porównania zbieżności metod bisekcji i Newtona przedstawiam zestawienie wyników (metody w kolejności: bisekcji, Newtona, siecznych):\n",
    "\n",
    "(mpf('4.730040713795'), mpf('-1.79088965524e-6'), 24)<br>\n",
    "(mpf('4.730040744878'), mpf('9.022187441587e-10'), 2)<br>\n",
    "(mpf('4.73004074482'),  mpf('-2.45199771598e-9'), 6)\n",
    "\n",
    "(mpf('0.86033358901937976242128'), mpf('2.3208702754767829290472e-19'), 64)<br>\n",
    "(mpf('0.86033358901937976248396'), mpf('0.0'), 14)<br>\n",
    "(mpf('0.86033358901937976248396'), mpf('0.0'), 23)\n",
    "\n",
    "(mpf('1.829383601933848816669'), mpf('-1.734723475976807094412e-18'), 61)<br>\n",
    "(mpf('1.82938360193384881713'),  mpf('0.0'), 8)<br>\n",
    "(mpf('1.829383601933848816262'), mpf('-3.469446951953614188824e-18'), 11)\n",
    "\n",
    "\n",
    "Analizując wyniki można zauważyć, że dla pierwszych dwóch funkcji metoda siecznych daje wyniki bliższe oczekiwanym niż metoda bisekcji oraz jest prawie tak dokładna jak metoda Newtona - zależnie od podanej dokładności błędu.<br>\n",
    "Dla trzeciej funkcji metoda siecznych okazała się dać minimalnie gorsze (dalsze od zera) wyniki od metody bisekcji.<br>\n",
    "Jednak w każdym przypadku metoda siecznych wykonała niewiele więcej iteracji niż metoda Newtona i dużo mniej niż metoda bisekcji.\n",
    "\n",
    "****\n",
    "Podsumowując, można powiedzieć, że metoda Newtona daje najlepsze wyniki, wykonując przy tym najmniej iteracji - jest najszybciej zbieżna. Następnie metoda siecznych, wykonując niewiele więcej iteracji, generuje nieznacznie gorsze wyniki. Najbardziej niedokładnie i najwolniej wypada metoda bisekcji (jedynie dla trzeciej funkcji jej dokładność była większa, niż metody siecznych, ale ilość iteracji dużo większa) - jest zbieżna wolniej.\n",
    "***"
   ]
  }
 ],
 "metadata": {
  "kernelspec": {
   "display_name": "Python 3",
   "language": "python",
   "name": "python3"
  },
  "language_info": {
   "codemirror_mode": {
    "name": "ipython",
    "version": 3
   },
   "file_extension": ".py",
   "mimetype": "text/x-python",
   "name": "python",
   "nbconvert_exporter": "python",
   "pygments_lexer": "ipython3",
   "version": "3.7.6"
  }
 },
 "nbformat": 4,
 "nbformat_minor": 4
}
